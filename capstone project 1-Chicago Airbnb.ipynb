{
 "cells": [
  {
   "cell_type": "markdown",
   "id": "f814a08e",
   "metadata": {},
   "source": [
    "# Chicago Airbnb - Regression Models"
   ]
  },
  {
   "cell_type": "markdown",
   "id": "67f45f76",
   "metadata": {},
   "source": [
    "### Data set Description:"
   ]
  },
  {
   "cell_type": "markdown",
   "id": "586a4f04",
   "metadata": {},
   "source": [
    "This dataset provides detailed information about Airbnb listings in Chicago, including the host, price, and availability of each listing. This dataset can be used to determine how much each list costs and when it is available to rent. It can also provide insight into which hosts are offering the most competitive prices and what type of accommodations they offer."
   ]
  },
  {
   "cell_type": "markdown",
   "id": "8a5014f8",
   "metadata": {},
   "source": [
    "### Columns Information:"
   ]
  },
  {
   "cell_type": "markdown",
   "id": "726920d8",
   "metadata": {},
   "source": [
    "| **Variable Name** | **Description** |\n",
    "|--|--|\n",
    "|id | The id of the airbnb|\n",
    "|name | The name of the airbnb|\n",
    "|host_id | The id of the host|\n",
    "|host_name | The name of the host|\n",
    "|neighborhood | Which area is the airbnb belongs to|\n",
    "|latitude | The latitude of the position|\n",
    "|longitude | The longitude of the position|\n",
    "|room_type | Entire home/apt, Private room or Other|\n",
    "|price | The price of the apartment(per day)|\n",
    "|minimum_nights | The least nights you need to book|\n",
    "|number_of_reviews | The total number of the reviews on this dataset|\n",
    "|last_review | The last review time|\n",
    "|reviews_per_month | How many reviews the airbnb can receive per month|\n",
    "|calculated_host_listings_count | The total listing number of the host|\n",
    "|availability_365 | The available days|"
   ]
  },
  {
   "cell_type": "markdown",
   "id": "8fc0436f",
   "metadata": {},
   "source": [
    "### Goal:"
   ]
  },
  {
   "cell_type": "markdown",
   "id": "05ee9d48",
   "metadata": {},
   "source": [
    "Predicting the price of each Airbnb in Chicago"
   ]
  },
  {
   "cell_type": "code",
   "execution_count": 1,
   "id": "abb29bea",
   "metadata": {},
   "outputs": [],
   "source": [
    "# importing required libraries\n",
    "import pandas as pd\n",
    "import numpy as np\n",
    "import matplotlib.pyplot as plt\n",
    "import seaborn as sns\n",
    "%matplotlib inline"
   ]
  },
  {
   "cell_type": "code",
   "execution_count": 2,
   "id": "91f57132",
   "metadata": {},
   "outputs": [],
   "source": [
    "# Importing the data\n",
    "data=pd.read_csv(r\"C:\\Users\\srava\\projects\\chicago bnb\\listings.csv\")"
   ]
  },
  {
   "cell_type": "code",
   "execution_count": 3,
   "id": "8631743f",
   "metadata": {},
   "outputs": [
    {
     "data": {
      "text/html": [
       "<div>\n",
       "<style scoped>\n",
       "    .dataframe tbody tr th:only-of-type {\n",
       "        vertical-align: middle;\n",
       "    }\n",
       "\n",
       "    .dataframe tbody tr th {\n",
       "        vertical-align: top;\n",
       "    }\n",
       "\n",
       "    .dataframe thead th {\n",
       "        text-align: right;\n",
       "    }\n",
       "</style>\n",
       "<table border=\"1\" class=\"dataframe\">\n",
       "  <thead>\n",
       "    <tr style=\"text-align: right;\">\n",
       "      <th></th>\n",
       "      <th>id</th>\n",
       "      <th>name</th>\n",
       "      <th>host_id</th>\n",
       "      <th>host_name</th>\n",
       "      <th>neighbourhood_group</th>\n",
       "      <th>neighbourhood</th>\n",
       "      <th>latitude</th>\n",
       "      <th>longitude</th>\n",
       "      <th>room_type</th>\n",
       "      <th>price</th>\n",
       "      <th>minimum_nights</th>\n",
       "      <th>number_of_reviews</th>\n",
       "      <th>last_review</th>\n",
       "      <th>reviews_per_month</th>\n",
       "      <th>calculated_host_listings_count</th>\n",
       "      <th>availability_365</th>\n",
       "    </tr>\n",
       "  </thead>\n",
       "  <tbody>\n",
       "    <tr>\n",
       "      <th>0</th>\n",
       "      <td>2384</td>\n",
       "      <td>Hyde Park - Walk to UChicago, 10 min to McCormick</td>\n",
       "      <td>2613</td>\n",
       "      <td>Rebecca</td>\n",
       "      <td>NaN</td>\n",
       "      <td>Hyde Park</td>\n",
       "      <td>41.78790</td>\n",
       "      <td>-87.58780</td>\n",
       "      <td>Private room</td>\n",
       "      <td>60</td>\n",
       "      <td>2</td>\n",
       "      <td>178</td>\n",
       "      <td>2019-12-15</td>\n",
       "      <td>2.56</td>\n",
       "      <td>1</td>\n",
       "      <td>353</td>\n",
       "    </tr>\n",
       "    <tr>\n",
       "      <th>1</th>\n",
       "      <td>4505</td>\n",
       "      <td>394 Great Reviews. 127 y/o House. 40 yds to tr...</td>\n",
       "      <td>5775</td>\n",
       "      <td>Craig &amp; Kathleen</td>\n",
       "      <td>NaN</td>\n",
       "      <td>South Lawndale</td>\n",
       "      <td>41.85495</td>\n",
       "      <td>-87.69696</td>\n",
       "      <td>Entire home/apt</td>\n",
       "      <td>105</td>\n",
       "      <td>2</td>\n",
       "      <td>395</td>\n",
       "      <td>2020-07-14</td>\n",
       "      <td>2.81</td>\n",
       "      <td>1</td>\n",
       "      <td>155</td>\n",
       "    </tr>\n",
       "    <tr>\n",
       "      <th>2</th>\n",
       "      <td>7126</td>\n",
       "      <td>Tiny Studio Apartment 94 Walk Score</td>\n",
       "      <td>17928</td>\n",
       "      <td>Sarah</td>\n",
       "      <td>NaN</td>\n",
       "      <td>West Town</td>\n",
       "      <td>41.90289</td>\n",
       "      <td>-87.68182</td>\n",
       "      <td>Entire home/apt</td>\n",
       "      <td>60</td>\n",
       "      <td>2</td>\n",
       "      <td>384</td>\n",
       "      <td>2020-03-08</td>\n",
       "      <td>2.81</td>\n",
       "      <td>1</td>\n",
       "      <td>321</td>\n",
       "    </tr>\n",
       "    <tr>\n",
       "      <th>3</th>\n",
       "      <td>9811</td>\n",
       "      <td>Barbara's Hideaway - Old Town</td>\n",
       "      <td>33004</td>\n",
       "      <td>At Home Inn</td>\n",
       "      <td>NaN</td>\n",
       "      <td>Lincoln Park</td>\n",
       "      <td>41.91769</td>\n",
       "      <td>-87.63788</td>\n",
       "      <td>Entire home/apt</td>\n",
       "      <td>65</td>\n",
       "      <td>4</td>\n",
       "      <td>49</td>\n",
       "      <td>2019-10-23</td>\n",
       "      <td>0.63</td>\n",
       "      <td>9</td>\n",
       "      <td>300</td>\n",
       "    </tr>\n",
       "    <tr>\n",
       "      <th>4</th>\n",
       "      <td>10610</td>\n",
       "      <td>3 Comforts of Cooperative Living</td>\n",
       "      <td>2140</td>\n",
       "      <td>Lois</td>\n",
       "      <td>NaN</td>\n",
       "      <td>Hyde Park</td>\n",
       "      <td>41.79612</td>\n",
       "      <td>-87.59261</td>\n",
       "      <td>Private room</td>\n",
       "      <td>21</td>\n",
       "      <td>1</td>\n",
       "      <td>44</td>\n",
       "      <td>2020-02-14</td>\n",
       "      <td>0.61</td>\n",
       "      <td>5</td>\n",
       "      <td>168</td>\n",
       "    </tr>\n",
       "  </tbody>\n",
       "</table>\n",
       "</div>"
      ],
      "text/plain": [
       "      id                                               name  host_id  \\\n",
       "0   2384  Hyde Park - Walk to UChicago, 10 min to McCormick     2613   \n",
       "1   4505  394 Great Reviews. 127 y/o House. 40 yds to tr...     5775   \n",
       "2   7126                Tiny Studio Apartment 94 Walk Score    17928   \n",
       "3   9811                      Barbara's Hideaway - Old Town    33004   \n",
       "4  10610                   3 Comforts of Cooperative Living     2140   \n",
       "\n",
       "          host_name  neighbourhood_group   neighbourhood  latitude  longitude  \\\n",
       "0           Rebecca                  NaN       Hyde Park  41.78790  -87.58780   \n",
       "1  Craig & Kathleen                  NaN  South Lawndale  41.85495  -87.69696   \n",
       "2             Sarah                  NaN       West Town  41.90289  -87.68182   \n",
       "3       At Home Inn                  NaN    Lincoln Park  41.91769  -87.63788   \n",
       "4              Lois                  NaN       Hyde Park  41.79612  -87.59261   \n",
       "\n",
       "         room_type  price  minimum_nights  number_of_reviews last_review  \\\n",
       "0     Private room     60               2                178  2019-12-15   \n",
       "1  Entire home/apt    105               2                395  2020-07-14   \n",
       "2  Entire home/apt     60               2                384  2020-03-08   \n",
       "3  Entire home/apt     65               4                 49  2019-10-23   \n",
       "4     Private room     21               1                 44  2020-02-14   \n",
       "\n",
       "   reviews_per_month  calculated_host_listings_count  availability_365  \n",
       "0               2.56                               1               353  \n",
       "1               2.81                               1               155  \n",
       "2               2.81                               1               321  \n",
       "3               0.63                               9               300  \n",
       "4               0.61                               5               168  "
      ]
     },
     "execution_count": 3,
     "metadata": {},
     "output_type": "execute_result"
    }
   ],
   "source": [
    "data.head()"
   ]
  },
  {
   "cell_type": "code",
   "execution_count": 4,
   "id": "2bbf4e2a",
   "metadata": {},
   "outputs": [
    {
     "data": {
      "text/plain": [
       "Index(['id', 'name', 'host_id', 'host_name', 'neighbourhood_group',\n",
       "       'neighbourhood', 'latitude', 'longitude', 'room_type', 'price',\n",
       "       'minimum_nights', 'number_of_reviews', 'last_review',\n",
       "       'reviews_per_month', 'calculated_host_listings_count',\n",
       "       'availability_365'],\n",
       "      dtype='object')"
      ]
     },
     "execution_count": 4,
     "metadata": {},
     "output_type": "execute_result"
    }
   ],
   "source": [
    "data.columns"
   ]
  },
  {
   "cell_type": "code",
   "execution_count": 5,
   "id": "18545e3f",
   "metadata": {},
   "outputs": [
    {
     "data": {
      "text/html": [
       "<div>\n",
       "<style scoped>\n",
       "    .dataframe tbody tr th:only-of-type {\n",
       "        vertical-align: middle;\n",
       "    }\n",
       "\n",
       "    .dataframe tbody tr th {\n",
       "        vertical-align: top;\n",
       "    }\n",
       "\n",
       "    .dataframe thead th {\n",
       "        text-align: right;\n",
       "    }\n",
       "</style>\n",
       "<table border=\"1\" class=\"dataframe\">\n",
       "  <thead>\n",
       "    <tr style=\"text-align: right;\">\n",
       "      <th></th>\n",
       "      <th>id</th>\n",
       "      <th>host_id</th>\n",
       "      <th>neighbourhood_group</th>\n",
       "      <th>latitude</th>\n",
       "      <th>longitude</th>\n",
       "      <th>price</th>\n",
       "      <th>minimum_nights</th>\n",
       "      <th>number_of_reviews</th>\n",
       "      <th>reviews_per_month</th>\n",
       "      <th>calculated_host_listings_count</th>\n",
       "      <th>availability_365</th>\n",
       "    </tr>\n",
       "  </thead>\n",
       "  <tbody>\n",
       "    <tr>\n",
       "      <th>count</th>\n",
       "      <td>6.397000e+03</td>\n",
       "      <td>6.397000e+03</td>\n",
       "      <td>0.0</td>\n",
       "      <td>6397.000000</td>\n",
       "      <td>6397.000000</td>\n",
       "      <td>6397.000000</td>\n",
       "      <td>6397.000000</td>\n",
       "      <td>6397.000000</td>\n",
       "      <td>5265.000000</td>\n",
       "      <td>6397.000000</td>\n",
       "      <td>6397.000000</td>\n",
       "    </tr>\n",
       "    <tr>\n",
       "      <th>mean</th>\n",
       "      <td>2.813857e+07</td>\n",
       "      <td>9.850262e+07</td>\n",
       "      <td>NaN</td>\n",
       "      <td>41.899049</td>\n",
       "      <td>-87.664042</td>\n",
       "      <td>153.020009</td>\n",
       "      <td>8.113178</td>\n",
       "      <td>42.753791</td>\n",
       "      <td>1.745280</td>\n",
       "      <td>13.598718</td>\n",
       "      <td>174.272159</td>\n",
       "    </tr>\n",
       "    <tr>\n",
       "      <th>std</th>\n",
       "      <td>1.288337e+07</td>\n",
       "      <td>9.990222e+07</td>\n",
       "      <td>NaN</td>\n",
       "      <td>0.058929</td>\n",
       "      <td>0.042414</td>\n",
       "      <td>376.207706</td>\n",
       "      <td>22.786856</td>\n",
       "      <td>67.051609</td>\n",
       "      <td>1.745491</td>\n",
       "      <td>37.180574</td>\n",
       "      <td>138.877601</td>\n",
       "    </tr>\n",
       "    <tr>\n",
       "      <th>min</th>\n",
       "      <td>2.384000e+03</td>\n",
       "      <td>2.140000e+03</td>\n",
       "      <td>NaN</td>\n",
       "      <td>41.647360</td>\n",
       "      <td>-87.846810</td>\n",
       "      <td>0.000000</td>\n",
       "      <td>1.000000</td>\n",
       "      <td>0.000000</td>\n",
       "      <td>0.020000</td>\n",
       "      <td>1.000000</td>\n",
       "      <td>0.000000</td>\n",
       "    </tr>\n",
       "    <tr>\n",
       "      <th>25%</th>\n",
       "      <td>1.875555e+07</td>\n",
       "      <td>1.705221e+07</td>\n",
       "      <td>NaN</td>\n",
       "      <td>41.872740</td>\n",
       "      <td>-87.687460</td>\n",
       "      <td>64.000000</td>\n",
       "      <td>1.000000</td>\n",
       "      <td>2.000000</td>\n",
       "      <td>0.430000</td>\n",
       "      <td>1.000000</td>\n",
       "      <td>36.000000</td>\n",
       "    </tr>\n",
       "    <tr>\n",
       "      <th>50%</th>\n",
       "      <td>2.994743e+07</td>\n",
       "      <td>5.738786e+07</td>\n",
       "      <td>NaN</td>\n",
       "      <td>41.901860</td>\n",
       "      <td>-87.660880</td>\n",
       "      <td>99.000000</td>\n",
       "      <td>2.000000</td>\n",
       "      <td>15.000000</td>\n",
       "      <td>1.230000</td>\n",
       "      <td>2.000000</td>\n",
       "      <td>161.000000</td>\n",
       "    </tr>\n",
       "    <tr>\n",
       "      <th>75%</th>\n",
       "      <td>3.959279e+07</td>\n",
       "      <td>1.580558e+08</td>\n",
       "      <td>NaN</td>\n",
       "      <td>41.939780</td>\n",
       "      <td>-87.633160</td>\n",
       "      <td>155.000000</td>\n",
       "      <td>3.000000</td>\n",
       "      <td>56.000000</td>\n",
       "      <td>2.570000</td>\n",
       "      <td>7.000000</td>\n",
       "      <td>329.000000</td>\n",
       "    </tr>\n",
       "    <tr>\n",
       "      <th>max</th>\n",
       "      <td>4.551558e+07</td>\n",
       "      <td>3.679071e+08</td>\n",
       "      <td>NaN</td>\n",
       "      <td>42.022510</td>\n",
       "      <td>-87.537520</td>\n",
       "      <td>10000.000000</td>\n",
       "      <td>500.000000</td>\n",
       "      <td>632.000000</td>\n",
       "      <td>32.430000</td>\n",
       "      <td>205.000000</td>\n",
       "      <td>365.000000</td>\n",
       "    </tr>\n",
       "  </tbody>\n",
       "</table>\n",
       "</div>"
      ],
      "text/plain": [
       "                 id       host_id  neighbourhood_group     latitude  \\\n",
       "count  6.397000e+03  6.397000e+03                  0.0  6397.000000   \n",
       "mean   2.813857e+07  9.850262e+07                  NaN    41.899049   \n",
       "std    1.288337e+07  9.990222e+07                  NaN     0.058929   \n",
       "min    2.384000e+03  2.140000e+03                  NaN    41.647360   \n",
       "25%    1.875555e+07  1.705221e+07                  NaN    41.872740   \n",
       "50%    2.994743e+07  5.738786e+07                  NaN    41.901860   \n",
       "75%    3.959279e+07  1.580558e+08                  NaN    41.939780   \n",
       "max    4.551558e+07  3.679071e+08                  NaN    42.022510   \n",
       "\n",
       "         longitude         price  minimum_nights  number_of_reviews  \\\n",
       "count  6397.000000   6397.000000     6397.000000        6397.000000   \n",
       "mean    -87.664042    153.020009        8.113178          42.753791   \n",
       "std       0.042414    376.207706       22.786856          67.051609   \n",
       "min     -87.846810      0.000000        1.000000           0.000000   \n",
       "25%     -87.687460     64.000000        1.000000           2.000000   \n",
       "50%     -87.660880     99.000000        2.000000          15.000000   \n",
       "75%     -87.633160    155.000000        3.000000          56.000000   \n",
       "max     -87.537520  10000.000000      500.000000         632.000000   \n",
       "\n",
       "       reviews_per_month  calculated_host_listings_count  availability_365  \n",
       "count        5265.000000                     6397.000000       6397.000000  \n",
       "mean            1.745280                       13.598718        174.272159  \n",
       "std             1.745491                       37.180574        138.877601  \n",
       "min             0.020000                        1.000000          0.000000  \n",
       "25%             0.430000                        1.000000         36.000000  \n",
       "50%             1.230000                        2.000000        161.000000  \n",
       "75%             2.570000                        7.000000        329.000000  \n",
       "max            32.430000                      205.000000        365.000000  "
      ]
     },
     "execution_count": 5,
     "metadata": {},
     "output_type": "execute_result"
    }
   ],
   "source": [
    "data.describe()"
   ]
  },
  {
   "cell_type": "code",
   "execution_count": 6,
   "id": "878d6d3e",
   "metadata": {},
   "outputs": [
    {
     "data": {
      "text/plain": [
       "(6397, 16)"
      ]
     },
     "execution_count": 6,
     "metadata": {},
     "output_type": "execute_result"
    }
   ],
   "source": [
    "data.shape"
   ]
  },
  {
   "cell_type": "code",
   "execution_count": 7,
   "id": "9037eb0f",
   "metadata": {},
   "outputs": [
    {
     "name": "stdout",
     "output_type": "stream",
     "text": [
      "<class 'pandas.core.frame.DataFrame'>\n",
      "RangeIndex: 6397 entries, 0 to 6396\n",
      "Data columns (total 16 columns):\n",
      " #   Column                          Non-Null Count  Dtype  \n",
      "---  ------                          --------------  -----  \n",
      " 0   id                              6397 non-null   int64  \n",
      " 1   name                            6397 non-null   object \n",
      " 2   host_id                         6397 non-null   int64  \n",
      " 3   host_name                       6397 non-null   object \n",
      " 4   neighbourhood_group             0 non-null      float64\n",
      " 5   neighbourhood                   6397 non-null   object \n",
      " 6   latitude                        6397 non-null   float64\n",
      " 7   longitude                       6397 non-null   float64\n",
      " 8   room_type                       6397 non-null   object \n",
      " 9   price                           6397 non-null   int64  \n",
      " 10  minimum_nights                  6397 non-null   int64  \n",
      " 11  number_of_reviews               6397 non-null   int64  \n",
      " 12  last_review                     5265 non-null   object \n",
      " 13  reviews_per_month               5265 non-null   float64\n",
      " 14  calculated_host_listings_count  6397 non-null   int64  \n",
      " 15  availability_365                6397 non-null   int64  \n",
      "dtypes: float64(4), int64(7), object(5)\n",
      "memory usage: 799.8+ KB\n"
     ]
    }
   ],
   "source": [
    "data.info()"
   ]
  },
  {
   "cell_type": "code",
   "execution_count": 8,
   "id": "222fbc88",
   "metadata": {},
   "outputs": [],
   "source": [
    "# deleting neighbourhood_group because it is a null column and id column , host id,last_review\n",
    "data=data.drop([\"neighbourhood_group\",\"id\",\"host_id\",\"last_review\"],axis=1)"
   ]
  },
  {
   "cell_type": "code",
   "execution_count": 9,
   "id": "7105ce84",
   "metadata": {
    "scrolled": true
   },
   "outputs": [
    {
     "name": "stdout",
     "output_type": "stream",
     "text": [
      "<class 'pandas.core.frame.DataFrame'>\n",
      "RangeIndex: 6397 entries, 0 to 6396\n",
      "Data columns (total 12 columns):\n",
      " #   Column                          Non-Null Count  Dtype  \n",
      "---  ------                          --------------  -----  \n",
      " 0   name                            6397 non-null   object \n",
      " 1   host_name                       6397 non-null   object \n",
      " 2   neighbourhood                   6397 non-null   object \n",
      " 3   latitude                        6397 non-null   float64\n",
      " 4   longitude                       6397 non-null   float64\n",
      " 5   room_type                       6397 non-null   object \n",
      " 6   price                           6397 non-null   int64  \n",
      " 7   minimum_nights                  6397 non-null   int64  \n",
      " 8   number_of_reviews               6397 non-null   int64  \n",
      " 9   reviews_per_month               5265 non-null   float64\n",
      " 10  calculated_host_listings_count  6397 non-null   int64  \n",
      " 11  availability_365                6397 non-null   int64  \n",
      "dtypes: float64(3), int64(5), object(4)\n",
      "memory usage: 599.8+ KB\n"
     ]
    }
   ],
   "source": [
    "data.info()"
   ]
  },
  {
   "cell_type": "code",
   "execution_count": null,
   "id": "a95b10d5",
   "metadata": {},
   "outputs": [],
   "source": []
  },
  {
   "cell_type": "code",
   "execution_count": 10,
   "id": "3f028d72",
   "metadata": {},
   "outputs": [
    {
     "data": {
      "text/plain": [
       "name                                 0\n",
       "host_name                            0\n",
       "neighbourhood                        0\n",
       "latitude                             0\n",
       "longitude                            0\n",
       "room_type                            0\n",
       "price                                0\n",
       "minimum_nights                       0\n",
       "number_of_reviews                    0\n",
       "reviews_per_month                 1132\n",
       "calculated_host_listings_count       0\n",
       "availability_365                     0\n",
       "dtype: int64"
      ]
     },
     "execution_count": 10,
     "metadata": {},
     "output_type": "execute_result"
    }
   ],
   "source": [
    "# checking for null values\n",
    "data.isnull().sum()"
   ]
  },
  {
   "cell_type": "code",
   "execution_count": 11,
   "id": "cd3ff57d",
   "metadata": {},
   "outputs": [
    {
     "data": {
      "text/plain": [
       "reviews_per_month\n",
       "NaN     1132\n",
       "1.00      69\n",
       "0.17      55\n",
       "0.14      52\n",
       "0.08      50\n",
       "        ... \n",
       "7.03       1\n",
       "4.04       1\n",
       "4.31       1\n",
       "7.81       1\n",
       "8.00       1\n",
       "Name: count, Length: 666, dtype: int64"
      ]
     },
     "execution_count": 11,
     "metadata": {},
     "output_type": "execute_result"
    }
   ],
   "source": [
    "data.reviews_per_month.value_counts(dropna=False)"
   ]
  },
  {
   "cell_type": "code",
   "execution_count": 12,
   "id": "33c8d176",
   "metadata": {},
   "outputs": [
    {
     "data": {
      "text/plain": [
       "count    5265.000000\n",
       "mean        1.745280\n",
       "std         1.745491\n",
       "min         0.020000\n",
       "25%         0.430000\n",
       "50%         1.230000\n",
       "75%         2.570000\n",
       "max        32.430000\n",
       "Name: reviews_per_month, dtype: float64"
      ]
     },
     "execution_count": 12,
     "metadata": {},
     "output_type": "execute_result"
    }
   ],
   "source": [
    "data.reviews_per_month.describe()"
   ]
  },
  {
   "cell_type": "code",
   "execution_count": 13,
   "id": "02637e89",
   "metadata": {},
   "outputs": [],
   "source": [
    "data.reviews_per_month=data.reviews_per_month.fillna(data.reviews_per_month.mean())"
   ]
  },
  {
   "cell_type": "code",
   "execution_count": 14,
   "id": "14c43b83",
   "metadata": {},
   "outputs": [
    {
     "data": {
      "text/plain": [
       "name                              0\n",
       "host_name                         0\n",
       "neighbourhood                     0\n",
       "latitude                          0\n",
       "longitude                         0\n",
       "room_type                         0\n",
       "price                             0\n",
       "minimum_nights                    0\n",
       "number_of_reviews                 0\n",
       "reviews_per_month                 0\n",
       "calculated_host_listings_count    0\n",
       "availability_365                  0\n",
       "dtype: int64"
      ]
     },
     "execution_count": 14,
     "metadata": {},
     "output_type": "execute_result"
    }
   ],
   "source": [
    "data.isnull().sum()"
   ]
  },
  {
   "cell_type": "code",
   "execution_count": 15,
   "id": "0827befa",
   "metadata": {},
   "outputs": [
    {
     "data": {
      "text/plain": [
       "False    6397\n",
       "Name: count, dtype: int64"
      ]
     },
     "execution_count": 15,
     "metadata": {},
     "output_type": "execute_result"
    }
   ],
   "source": [
    "# checking for duplicate values\n",
    "data.duplicated().value_counts()"
   ]
  },
  {
   "cell_type": "code",
   "execution_count": 16,
   "id": "ee85dbc7",
   "metadata": {},
   "outputs": [
    {
     "data": {
      "text/plain": [
       "name                              0\n",
       "host_name                         0\n",
       "neighbourhood                     0\n",
       "latitude                          0\n",
       "longitude                         0\n",
       "room_type                         0\n",
       "price                             0\n",
       "minimum_nights                    0\n",
       "number_of_reviews                 0\n",
       "reviews_per_month                 0\n",
       "calculated_host_listings_count    0\n",
       "availability_365                  0\n",
       "dtype: int64"
      ]
     },
     "execution_count": 16,
     "metadata": {},
     "output_type": "execute_result"
    }
   ],
   "source": [
    "# checking for nan values\n",
    "data.isna().sum()"
   ]
  },
  {
   "cell_type": "code",
   "execution_count": 17,
   "id": "5f116703",
   "metadata": {},
   "outputs": [
    {
     "data": {
      "text/plain": [
       "neighbourhood\n",
       "West Town          725\n",
       "Near North Side    683\n",
       "Lake View          536\n",
       "Logan Square       398\n",
       "Loop               372\n",
       "                  ... \n",
       "West Elsdon          2\n",
       "West Pullman         2\n",
       "South Deering        2\n",
       "Edison Park          2\n",
       "East Side            1\n",
       "Name: count, Length: 77, dtype: int64"
      ]
     },
     "execution_count": 17,
     "metadata": {},
     "output_type": "execute_result"
    }
   ],
   "source": [
    "data.neighbourhood.value_counts()"
   ]
  },
  {
   "cell_type": "code",
   "execution_count": 18,
   "id": "bf7b2940",
   "metadata": {},
   "outputs": [
    {
     "data": {
      "text/plain": [
       "room_type\n",
       "Entire home/apt    4401\n",
       "Private room       1833\n",
       "Shared room          90\n",
       "Hotel room           73\n",
       "Name: count, dtype: int64"
      ]
     },
     "execution_count": 18,
     "metadata": {},
     "output_type": "execute_result"
    }
   ],
   "source": [
    "data.room_type.value_counts()"
   ]
  },
  {
   "cell_type": "markdown",
   "id": "04408e2f",
   "metadata": {},
   "source": [
    "## EDA"
   ]
  },
  {
   "cell_type": "code",
   "execution_count": 19,
   "id": "5b120a6d",
   "metadata": {},
   "outputs": [
    {
     "data": {
      "text/plain": [
       "count     6397.000000\n",
       "mean       153.020009\n",
       "std        376.207706\n",
       "min          0.000000\n",
       "25%         64.000000\n",
       "50%         99.000000\n",
       "75%        155.000000\n",
       "max      10000.000000\n",
       "Name: price, dtype: float64"
      ]
     },
     "execution_count": 19,
     "metadata": {},
     "output_type": "execute_result"
    }
   ],
   "source": [
    "data.price.describe()"
   ]
  },
  {
   "cell_type": "code",
   "execution_count": 20,
   "id": "d604e410",
   "metadata": {},
   "outputs": [
    {
     "name": "stdout",
     "output_type": "stream",
     "text": [
      "Skewness: 20.563742167410712\n",
      "Kurtosis: 507.4152804163121\n"
     ]
    }
   ],
   "source": [
    "print(\"Skewness:\",data.price.skew())\n",
    "print(\"Kurtosis:\",data.price.kurt())"
   ]
  },
  {
   "cell_type": "code",
   "execution_count": 21,
   "id": "ab1a9506",
   "metadata": {
    "scrolled": true
   },
   "outputs": [
    {
     "data": {
      "text/plain": [
       "count    6397.000000\n",
       "mean       42.753791\n",
       "std        67.051609\n",
       "min         0.000000\n",
       "25%         2.000000\n",
       "50%        15.000000\n",
       "75%        56.000000\n",
       "max       632.000000\n",
       "Name: number_of_reviews, dtype: float64"
      ]
     },
     "execution_count": 21,
     "metadata": {},
     "output_type": "execute_result"
    }
   ],
   "source": [
    "data.number_of_reviews.describe()"
   ]
  },
  {
   "cell_type": "code",
   "execution_count": 22,
   "id": "2c1626a1",
   "metadata": {
    "scrolled": true
   },
   "outputs": [
    {
     "name": "stdout",
     "output_type": "stream",
     "text": [
      "Skewness: 2.93840692596082\n",
      "Kurtosis: 12.175404935117307\n"
     ]
    }
   ],
   "source": [
    "print(\"Skewness:\",data.number_of_reviews.skew())\n",
    "print(\"Kurtosis:\",data.number_of_reviews.kurt())"
   ]
  },
  {
   "cell_type": "markdown",
   "id": "2ca986e8",
   "metadata": {},
   "source": [
    "## Data Visualization"
   ]
  },
  {
   "cell_type": "code",
   "execution_count": 23,
   "id": "8c0ad82d",
   "metadata": {},
   "outputs": [
    {
     "data": {
      "image/png": "[encoded data removed]",
      "text/plain": [
       "<Figure size 640x480 with 1 Axes>"
      ]
     },
     "metadata": {},
     "output_type": "display_data"
    }
   ],
   "source": [
    "ax=data.price.plot(kind=\"hist\")\n",
    "for i in ax.containers:\n",
    "    ax.bar_label(i,label_type=\"edge\")"
   ]
  },
  {
   "cell_type": "code",
   "execution_count": 24,
   "id": "80f7e6ff",
   "metadata": {
    "scrolled": false
   },
   "outputs": [
    {
     "data": {
      "text/plain": [
       "<Axes: >"
      ]
     },
     "execution_count": 24,
     "metadata": {},
     "output_type": "execute_result"
    },
    {
     "data": {
      "image/png": "[encoded data removed]",
      "text/plain": [
       "<Figure size 640x480 with 1 Axes>"
      ]
     },
     "metadata": {},
     "output_type": "display_data"
    }
   ],
   "source": [
    "data.price.plot(kind=\"box\",vert=False)"
   ]
  },
  {
   "cell_type": "code",
   "execution_count": 25,
   "id": "7856d0ef",
   "metadata": {},
   "outputs": [],
   "source": [
    "#removing outliers from price\n",
    "df=data[data['price']>4000]"
   ]
  },
  {
   "cell_type": "code",
   "execution_count": 26,
   "id": "1e8555a3",
   "metadata": {
    "scrolled": true
   },
   "outputs": [
    {
     "data": {
      "text/html": [
       "<div>\n",
       "<style scoped>\n",
       "    .dataframe tbody tr th:only-of-type {\n",
       "        vertical-align: middle;\n",
       "    }\n",
       "\n",
       "    .dataframe tbody tr th {\n",
       "        vertical-align: top;\n",
       "    }\n",
       "\n",
       "    .dataframe thead th {\n",
       "        text-align: right;\n",
       "    }\n",
       "</style>\n",
       "<table border=\"1\" class=\"dataframe\">\n",
       "  <thead>\n",
       "    <tr style=\"text-align: right;\">\n",
       "      <th></th>\n",
       "      <th>name</th>\n",
       "      <th>host_name</th>\n",
       "      <th>neighbourhood</th>\n",
       "      <th>latitude</th>\n",
       "      <th>longitude</th>\n",
       "      <th>room_type</th>\n",
       "      <th>price</th>\n",
       "      <th>minimum_nights</th>\n",
       "      <th>number_of_reviews</th>\n",
       "      <th>reviews_per_month</th>\n",
       "      <th>calculated_host_listings_count</th>\n",
       "      <th>availability_365</th>\n",
       "    </tr>\n",
       "  </thead>\n",
       "  <tbody>\n",
       "    <tr>\n",
       "      <th>648</th>\n",
       "      <td>Single Bedroom in Wicker Park Modern Mansion</td>\n",
       "      <td>Kristina</td>\n",
       "      <td>West Town</td>\n",
       "      <td>41.90800</td>\n",
       "      <td>-87.67366</td>\n",
       "      <td>Private room</td>\n",
       "      <td>10000</td>\n",
       "      <td>20</td>\n",
       "      <td>30</td>\n",
       "      <td>0.49000</td>\n",
       "      <td>1</td>\n",
       "      <td>358</td>\n",
       "    </tr>\n",
       "    <tr>\n",
       "      <th>1245</th>\n",
       "      <td>Wrigleyville Mansion - Sleeps 16+</td>\n",
       "      <td>Joe</td>\n",
       "      <td>Lake View</td>\n",
       "      <td>41.95112</td>\n",
       "      <td>-87.67020</td>\n",
       "      <td>Entire home/apt</td>\n",
       "      <td>9999</td>\n",
       "      <td>7</td>\n",
       "      <td>16</td>\n",
       "      <td>0.40000</td>\n",
       "      <td>2</td>\n",
       "      <td>80</td>\n",
       "    </tr>\n",
       "    <tr>\n",
       "      <th>1707</th>\n",
       "      <td>Large 1 bedroom with Private Bath</td>\n",
       "      <td>Kyle</td>\n",
       "      <td>Lake View</td>\n",
       "      <td>41.93917</td>\n",
       "      <td>-87.64982</td>\n",
       "      <td>Private room</td>\n",
       "      <td>9999</td>\n",
       "      <td>80</td>\n",
       "      <td>2</td>\n",
       "      <td>0.05000</td>\n",
       "      <td>1</td>\n",
       "      <td>363</td>\n",
       "    </tr>\n",
       "    <tr>\n",
       "      <th>3938</th>\n",
       "      <td>BIG Unit, Wrigleyville, Step to Wrigley, Metro</td>\n",
       "      <td>Harry</td>\n",
       "      <td>Lake View</td>\n",
       "      <td>41.95100</td>\n",
       "      <td>-87.65785</td>\n",
       "      <td>Entire home/apt</td>\n",
       "      <td>9000</td>\n",
       "      <td>2</td>\n",
       "      <td>0</td>\n",
       "      <td>1.74528</td>\n",
       "      <td>1</td>\n",
       "      <td>365</td>\n",
       "    </tr>\n",
       "    <tr>\n",
       "      <th>4144</th>\n",
       "      <td>Steps from Mag Mile - King Bed Boutique Hotel</td>\n",
       "      <td>St Jane</td>\n",
       "      <td>Loop</td>\n",
       "      <td>41.88714</td>\n",
       "      <td>-87.62413</td>\n",
       "      <td>Hotel room</td>\n",
       "      <td>9999</td>\n",
       "      <td>1</td>\n",
       "      <td>32</td>\n",
       "      <td>2.27000</td>\n",
       "      <td>3</td>\n",
       "      <td>168</td>\n",
       "    </tr>\n",
       "    <tr>\n",
       "      <th>4145</th>\n",
       "      <td>Steps from Mag Mile -Suite in Boutique Hotel</td>\n",
       "      <td>St Jane</td>\n",
       "      <td>Loop</td>\n",
       "      <td>41.88607</td>\n",
       "      <td>-87.62443</td>\n",
       "      <td>Hotel room</td>\n",
       "      <td>9999</td>\n",
       "      <td>1</td>\n",
       "      <td>3</td>\n",
       "      <td>0.22000</td>\n",
       "      <td>3</td>\n",
       "      <td>173</td>\n",
       "    </tr>\n",
       "    <tr>\n",
       "      <th>4146</th>\n",
       "      <td>Steps from Mag Mile - 2 Queen Beds Boutique Hotel</td>\n",
       "      <td>St Jane</td>\n",
       "      <td>Loop</td>\n",
       "      <td>41.88621</td>\n",
       "      <td>-87.62385</td>\n",
       "      <td>Hotel room</td>\n",
       "      <td>9999</td>\n",
       "      <td>1</td>\n",
       "      <td>22</td>\n",
       "      <td>1.59000</td>\n",
       "      <td>3</td>\n",
       "      <td>173</td>\n",
       "    </tr>\n",
       "    <tr>\n",
       "      <th>5558</th>\n",
       "      <td>The Robey, Urban King Accessible</td>\n",
       "      <td>The Robey Hotel</td>\n",
       "      <td>West Town</td>\n",
       "      <td>41.91142</td>\n",
       "      <td>-87.67735</td>\n",
       "      <td>Private room</td>\n",
       "      <td>7000</td>\n",
       "      <td>1</td>\n",
       "      <td>0</td>\n",
       "      <td>1.74528</td>\n",
       "      <td>8</td>\n",
       "      <td>365</td>\n",
       "    </tr>\n",
       "  </tbody>\n",
       "</table>\n",
       "</div>"
      ],
      "text/plain": [
       "                                                   name        host_name  \\\n",
       "648        Single Bedroom in Wicker Park Modern Mansion         Kristina   \n",
       "1245                  Wrigleyville Mansion - Sleeps 16+              Joe   \n",
       "1707                  Large 1 bedroom with Private Bath             Kyle   \n",
       "3938     BIG Unit, Wrigleyville, Step to Wrigley, Metro            Harry   \n",
       "4144      Steps from Mag Mile - King Bed Boutique Hotel          St Jane   \n",
       "4145       Steps from Mag Mile -Suite in Boutique Hotel          St Jane   \n",
       "4146  Steps from Mag Mile - 2 Queen Beds Boutique Hotel          St Jane   \n",
       "5558                   The Robey, Urban King Accessible  The Robey Hotel   \n",
       "\n",
       "     neighbourhood  latitude  longitude        room_type  price  \\\n",
       "648      West Town  41.90800  -87.67366     Private room  10000   \n",
       "1245     Lake View  41.95112  -87.67020  Entire home/apt   9999   \n",
       "1707     Lake View  41.93917  -87.64982     Private room   9999   \n",
       "3938     Lake View  41.95100  -87.65785  Entire home/apt   9000   \n",
       "4144          Loop  41.88714  -87.62413       Hotel room   9999   \n",
       "4145          Loop  41.88607  -87.62443       Hotel room   9999   \n",
       "4146          Loop  41.88621  -87.62385       Hotel room   9999   \n",
       "5558     West Town  41.91142  -87.67735     Private room   7000   \n",
       "\n",
       "      minimum_nights  number_of_reviews  reviews_per_month  \\\n",
       "648               20                 30            0.49000   \n",
       "1245               7                 16            0.40000   \n",
       "1707              80                  2            0.05000   \n",
       "3938               2                  0            1.74528   \n",
       "4144               1                 32            2.27000   \n",
       "4145               1                  3            0.22000   \n",
       "4146               1                 22            1.59000   \n",
       "5558               1                  0            1.74528   \n",
       "\n",
       "      calculated_host_listings_count  availability_365  \n",
       "648                                1               358  \n",
       "1245                               2                80  \n",
       "1707                               1               363  \n",
       "3938                               1               365  \n",
       "4144                               3               168  \n",
       "4145                               3               173  \n",
       "4146                               3               173  \n",
       "5558                               8               365  "
      ]
     },
     "execution_count": 26,
     "metadata": {},
     "output_type": "execute_result"
    }
   ],
   "source": [
    "df.head(8)"
   ]
  },
  {
   "cell_type": "code",
   "execution_count": 27,
   "id": "8ff7a3a1",
   "metadata": {},
   "outputs": [
    {
     "data": {
      "text/plain": [
       "name                              8\n",
       "host_name                         8\n",
       "neighbourhood                     8\n",
       "latitude                          8\n",
       "longitude                         8\n",
       "room_type                         8\n",
       "price                             8\n",
       "minimum_nights                    8\n",
       "number_of_reviews                 8\n",
       "reviews_per_month                 8\n",
       "calculated_host_listings_count    8\n",
       "availability_365                  8\n",
       "dtype: int64"
      ]
     },
     "execution_count": 27,
     "metadata": {},
     "output_type": "execute_result"
    }
   ],
   "source": [
    "df.count()"
   ]
  },
  {
   "cell_type": "code",
   "execution_count": 28,
   "id": "b8013462",
   "metadata": {},
   "outputs": [],
   "source": [
    "data = data.drop([648,1245,1707,3938,4144,4145,4146,5558],axis=0)"
   ]
  },
  {
   "cell_type": "code",
   "execution_count": 29,
   "id": "235fc87f",
   "metadata": {},
   "outputs": [
    {
     "data": {
      "text/plain": [
       "count    6389.000000\n",
       "mean      141.316951\n",
       "std       175.849014\n",
       "min         0.000000\n",
       "25%        64.000000\n",
       "50%        99.000000\n",
       "75%       155.000000\n",
       "max      3690.000000\n",
       "Name: price, dtype: float64"
      ]
     },
     "execution_count": 29,
     "metadata": {},
     "output_type": "execute_result"
    }
   ],
   "source": [
    "data.price.describe()"
   ]
  },
  {
   "cell_type": "code",
   "execution_count": 30,
   "id": "97880ffd",
   "metadata": {},
   "outputs": [
    {
     "data": {
      "text/plain": [
       "name                              0\n",
       "host_name                         0\n",
       "neighbourhood                     0\n",
       "latitude                          0\n",
       "longitude                         0\n",
       "room_type                         0\n",
       "price                             0\n",
       "minimum_nights                    0\n",
       "number_of_reviews                 0\n",
       "reviews_per_month                 0\n",
       "calculated_host_listings_count    0\n",
       "availability_365                  0\n",
       "dtype: int64"
      ]
     },
     "execution_count": 30,
     "metadata": {},
     "output_type": "execute_result"
    }
   ],
   "source": [
    "data.isnull().sum()"
   ]
  },
  {
   "cell_type": "code",
   "execution_count": 31,
   "id": "8600bebc",
   "metadata": {},
   "outputs": [],
   "source": [
    "data=data.reset_index()"
   ]
  },
  {
   "cell_type": "code",
   "execution_count": 32,
   "id": "19d36e1d",
   "metadata": {},
   "outputs": [],
   "source": [
    "data=data.drop(['index'],axis=1)"
   ]
  },
  {
   "cell_type": "code",
   "execution_count": 33,
   "id": "273830a1",
   "metadata": {},
   "outputs": [
    {
     "data": {
      "text/plain": [
       "<Axes: >"
      ]
     },
     "execution_count": 33,
     "metadata": {},
     "output_type": "execute_result"
    },
    {
     "data": {
      "image/png": "[encoded data removed]",
      "text/plain": [
       "<Figure size 640x480 with 1 Axes>"
      ]
     },
     "metadata": {},
     "output_type": "display_data"
    }
   ],
   "source": [
    "data.price.plot(kind=\"box\",vert=False)"
   ]
  },
  {
   "cell_type": "code",
   "execution_count": 34,
   "id": "a2ab6c25",
   "metadata": {},
   "outputs": [
    {
     "data": {
      "text/plain": [
       "<Axes: >"
      ]
     },
     "execution_count": 34,
     "metadata": {},
     "output_type": "execute_result"
    },
    {
     "data": {
      "image/png": "[encoded data removed]",
      "text/plain": [
       "<Figure size 640x480 with 1 Axes>"
      ]
     },
     "metadata": {},
     "output_type": "display_data"
    }
   ],
   "source": [
    "data.price.plot.box()"
   ]
  },
  {
   "cell_type": "code",
   "execution_count": 36,
   "id": "bd0f8f0f",
   "metadata": {},
   "outputs": [
    {
     "data": {
      "text/plain": [
       "<Axes: ylabel='Density'>"
      ]
     },
     "execution_count": 36,
     "metadata": {},
     "output_type": "execute_result"
    },
    {
     "data": {
      "image/png": "[encoded data removed]",
      "text/plain": [
       "<Figure size 640x480 with 1 Axes>"
      ]
     },
     "metadata": {},
     "output_type": "display_data"
    }
   ],
   "source": [
    "data.price.plot(kind=\"density\")"
   ]
  },
  {
   "cell_type": "code",
   "execution_count": 37,
   "id": "1f867f92",
   "metadata": {},
   "outputs": [
    {
     "data": {
      "text/plain": [
       "<Figure size 3000x1500 with 0 Axes>"
      ]
     },
     "metadata": {},
     "output_type": "display_data"
    },
    {
     "data": {
      "image/png": "[encoded data removed]",
      "text/plain": [
       "<Figure size 640x480 with 3 Axes>"
      ]
     },
     "metadata": {},
     "output_type": "display_data"
    }
   ],
   "source": [
    "plt.figure(figsize=(30,15))\n",
    "fig,ax=plt.subplots(3,1)\n",
    "sns.histplot(data.number_of_reviews,ax=ax[0])\n",
    "sns.boxplot(data.number_of_reviews,orient=\"h\",ax=ax[1])\n",
    "sns.kdeplot(data.number_of_reviews,ax=ax[2])\n",
    "plt.show()"
   ]
  },
  {
   "cell_type": "code",
   "execution_count": 38,
   "id": "1393c1ca",
   "metadata": {},
   "outputs": [
    {
     "data": {
      "text/plain": [
       "price\n",
       "(0, 50]          1092\n",
       "(50, 100]        2251\n",
       "(100, 150]       1403\n",
       "(150, 200]        677\n",
       "(200, 250]        322\n",
       "(250, 300]        157\n",
       "(300, 400]        221\n",
       "(400, 450]         57\n",
       "(450, 500]         46\n",
       "(500, 1000]       121\n",
       "(1000, 10000]      41\n",
       "Name: count, dtype: int64"
      ]
     },
     "execution_count": 38,
     "metadata": {},
     "output_type": "execute_result"
    }
   ],
   "source": [
    "# Frequency Distribution Table\n",
    "pd.cut(data.price,bins=[0,50,100,150,200,250,300,400,450,500,1000,10000]\n",
    "               ).value_counts().sort_index()\n"
   ]
  },
  {
   "cell_type": "code",
   "execution_count": 39,
   "id": "952b3e28",
   "metadata": {},
   "outputs": [
    {
     "data": {
      "image/png": "[encoded data removed]",
      "text/plain": [
       "<Figure size 640x480 with 1 Axes>"
      ]
     },
     "metadata": {},
     "output_type": "display_data"
    }
   ],
   "source": [
    "# Bar Plot for Frequency Distribution Table\n",
    "ax=pd.cut(data.price,bins=[0,50,100,150,200,250,300,350,400,450,500,1000,10000]\n",
    "         ).value_counts().sort_index().plot(kind=\"bar\",color=\"brown\")\n",
    "for i in ax.containers:\n",
    "    ax.bar_label(i)\n",
    "plt.show()"
   ]
  },
  {
   "cell_type": "code",
   "execution_count": 40,
   "id": "846c64f9",
   "metadata": {},
   "outputs": [
    {
     "data": {
      "text/html": [
       "<div>\n",
       "<style scoped>\n",
       "    .dataframe tbody tr th:only-of-type {\n",
       "        vertical-align: middle;\n",
       "    }\n",
       "\n",
       "    .dataframe tbody tr th {\n",
       "        vertical-align: top;\n",
       "    }\n",
       "\n",
       "    .dataframe thead th {\n",
       "        text-align: right;\n",
       "    }\n",
       "</style>\n",
       "<table border=\"1\" class=\"dataframe\">\n",
       "  <thead>\n",
       "    <tr style=\"text-align: right;\">\n",
       "      <th>room_type</th>\n",
       "      <th>Entire home/apt</th>\n",
       "      <th>Hotel room</th>\n",
       "      <th>Private room</th>\n",
       "      <th>Shared room</th>\n",
       "    </tr>\n",
       "    <tr>\n",
       "      <th>neighbourhood</th>\n",
       "      <th></th>\n",
       "      <th></th>\n",
       "      <th></th>\n",
       "      <th></th>\n",
       "    </tr>\n",
       "  </thead>\n",
       "  <tbody>\n",
       "    <tr>\n",
       "      <th>Near North Side</th>\n",
       "      <td>578</td>\n",
       "      <td>39</td>\n",
       "      <td>64</td>\n",
       "      <td>2</td>\n",
       "    </tr>\n",
       "    <tr>\n",
       "      <th>West Town</th>\n",
       "      <td>498</td>\n",
       "      <td>18</td>\n",
       "      <td>203</td>\n",
       "      <td>4</td>\n",
       "    </tr>\n",
       "    <tr>\n",
       "      <th>Lake View</th>\n",
       "      <td>399</td>\n",
       "      <td>10</td>\n",
       "      <td>106</td>\n",
       "      <td>18</td>\n",
       "    </tr>\n",
       "    <tr>\n",
       "      <th>Loop</th>\n",
       "      <td>337</td>\n",
       "      <td>0</td>\n",
       "      <td>31</td>\n",
       "      <td>1</td>\n",
       "    </tr>\n",
       "    <tr>\n",
       "      <th>Logan Square</th>\n",
       "      <td>313</td>\n",
       "      <td>0</td>\n",
       "      <td>83</td>\n",
       "      <td>2</td>\n",
       "    </tr>\n",
       "    <tr>\n",
       "      <th>...</th>\n",
       "      <td>...</td>\n",
       "      <td>...</td>\n",
       "      <td>...</td>\n",
       "      <td>...</td>\n",
       "    </tr>\n",
       "    <tr>\n",
       "      <th>Burnside</th>\n",
       "      <td>1</td>\n",
       "      <td>0</td>\n",
       "      <td>1</td>\n",
       "      <td>0</td>\n",
       "    </tr>\n",
       "    <tr>\n",
       "      <th>East Side</th>\n",
       "      <td>1</td>\n",
       "      <td>0</td>\n",
       "      <td>0</td>\n",
       "      <td>0</td>\n",
       "    </tr>\n",
       "    <tr>\n",
       "      <th>West Pullman</th>\n",
       "      <td>1</td>\n",
       "      <td>0</td>\n",
       "      <td>1</td>\n",
       "      <td>0</td>\n",
       "    </tr>\n",
       "    <tr>\n",
       "      <th>Montclare</th>\n",
       "      <td>1</td>\n",
       "      <td>0</td>\n",
       "      <td>2</td>\n",
       "      <td>0</td>\n",
       "    </tr>\n",
       "    <tr>\n",
       "      <th>Riverdale</th>\n",
       "      <td>0</td>\n",
       "      <td>0</td>\n",
       "      <td>3</td>\n",
       "      <td>0</td>\n",
       "    </tr>\n",
       "  </tbody>\n",
       "</table>\n",
       "<p>77 rows × 4 columns</p>\n",
       "</div>"
      ],
      "text/plain": [
       "room_type        Entire home/apt  Hotel room  Private room  Shared room\n",
       "neighbourhood                                                          \n",
       "Near North Side              578          39            64            2\n",
       "West Town                    498          18           203            4\n",
       "Lake View                    399          10           106           18\n",
       "Loop                         337           0            31            1\n",
       "Logan Square                 313           0            83            2\n",
       "...                          ...         ...           ...          ...\n",
       "Burnside                       1           0             1            0\n",
       "East Side                      1           0             0            0\n",
       "West Pullman                   1           0             1            0\n",
       "Montclare                      1           0             2            0\n",
       "Riverdale                      0           0             3            0\n",
       "\n",
       "[77 rows x 4 columns]"
      ]
     },
     "execution_count": 40,
     "metadata": {},
     "output_type": "execute_result"
    }
   ],
   "source": [
    "pd.crosstab(data.neighbourhood,data.room_type).sort_values(by=\"Entire home/apt\",ascending=False)"
   ]
  },
  {
   "cell_type": "code",
   "execution_count": 41,
   "id": "401fe54b",
   "metadata": {
    "scrolled": true
   },
   "outputs": [
    {
     "data": {
      "image/png": "[encoded data removed]",
      "text/plain": [
       "<Figure size 640x480 with 1 Axes>"
      ]
     },
     "metadata": {},
     "output_type": "display_data"
    }
   ],
   "source": [
    "ax=sns.barplot(data,x=\"room_type\",y=\"price\",errorbar=None)\n",
    "ax.bar_label(ax.containers[0])\n",
    "plt.show()"
   ]
  },
  {
   "cell_type": "code",
   "execution_count": 42,
   "id": "8916cdfa",
   "metadata": {
    "scrolled": true
   },
   "outputs": [
    {
     "data": {
      "text/plain": [
       "<Axes: ylabel='count'>"
      ]
     },
     "execution_count": 42,
     "metadata": {},
     "output_type": "execute_result"
    },
    {
     "data": {
      "image/png": "[encoded data removed]",
      "text/plain": [
       "<Figure size 640x480 with 1 Axes>"
      ]
     },
     "metadata": {},
     "output_type": "display_data"
    }
   ],
   "source": [
    "data.room_type.value_counts().plot(kind=\"pie\",autopct=\"%.2f%%\")"
   ]
  },
  {
   "cell_type": "code",
   "execution_count": 43,
   "id": "9b897b83",
   "metadata": {
    "scrolled": true
   },
   "outputs": [
    {
     "data": {
      "text/plain": [
       "<Axes: >"
      ]
     },
     "execution_count": 43,
     "metadata": {},
     "output_type": "execute_result"
    },
    {
     "data": {
      "text/plain": [
       "<Figure size 2000x2000 with 0 Axes>"
      ]
     },
     "metadata": {},
     "output_type": "display_data"
    },
    {
     "data": {
      "image/png": "[encoded data removed]",
      "text/plain": [
       "<Figure size 640x480 with 1 Axes>"
      ]
     },
     "metadata": {},
     "output_type": "display_data"
    }
   ],
   "source": [
    "plt.figure(figsize=(20,20))\n",
    "data.plot(kind=\"box\")"
   ]
  },
  {
   "cell_type": "markdown",
   "id": "32f3e986",
   "metadata": {},
   "source": [
    "## Data Aggregation"
   ]
  },
  {
   "cell_type": "code",
   "execution_count": 44,
   "id": "a34249ed",
   "metadata": {},
   "outputs": [
    {
     "data": {
      "text/plain": [
       "room_type\n",
       "Entire home/apt    172.149807\n",
       "Hotel room         112.171429\n",
       "Private room        72.821311\n",
       "Shared room         49.688889\n",
       "Name: price, dtype: float64"
      ]
     },
     "execution_count": 44,
     "metadata": {},
     "output_type": "execute_result"
    }
   ],
   "source": [
    "# What is the Average price of different room_type?\n",
    "data.price.groupby(data.room_type).mean()"
   ]
  },
  {
   "cell_type": "code",
   "execution_count": 45,
   "id": "acb3e23f",
   "metadata": {},
   "outputs": [
    {
     "data": {
      "text/plain": [
       "neighbourhood\n",
       "Albany Park        88.000000\n",
       "Archer Heights     82.833333\n",
       "Armour Square     132.940299\n",
       "Ashburn            71.307692\n",
       "Auburn Gresham    125.166667\n",
       "                     ...    \n",
       "West Lawn          37.900000\n",
       "West Pullman       95.000000\n",
       "West Ridge         85.608696\n",
       "West Town         156.331950\n",
       "Woodlawn           69.702381\n",
       "Name: price, Length: 77, dtype: float64"
      ]
     },
     "execution_count": 45,
     "metadata": {},
     "output_type": "execute_result"
    }
   ],
   "source": [
    "# What is the Average price in different neighbourhood?\n",
    "data.price.groupby(data.neighbourhood).mean()"
   ]
  },
  {
   "cell_type": "code",
   "execution_count": 46,
   "id": "d76d711b",
   "metadata": {},
   "outputs": [
    {
     "data": {
      "text/plain": [
       "neighbourhood\n",
       "Edison Park       122.0\n",
       "Gage Park         114.0\n",
       "Oakland            76.5\n",
       "West Lawn          62.0\n",
       "Jefferson Park     44.5\n",
       "                  ...  \n",
       "Clearing            1.0\n",
       "West Pullman        1.0\n",
       "Loop                1.0\n",
       "West Englewood      0.0\n",
       "Riverdale           0.0\n",
       "Name: number_of_reviews, Length: 77, dtype: float64"
      ]
     },
     "execution_count": 46,
     "metadata": {},
     "output_type": "execute_result"
    }
   ],
   "source": [
    "# What is the Median number_of_reviews for each neighborhood?\n",
    "data.number_of_reviews.groupby(data.neighbourhood).median().sort_values(ascending=False)"
   ]
  },
  {
   "cell_type": "code",
   "execution_count": 47,
   "id": "84ded0e1",
   "metadata": {
    "scrolled": false
   },
   "outputs": [
    {
     "data": {
      "text/plain": [
       "neighbourhood           room_type      \n",
       "Albany Park             Entire home/apt     135.166667\n",
       "                        Private room         50.763158\n",
       "Archer Heights          Entire home/apt      89.000000\n",
       "                        Private room         76.666667\n",
       "Armour Square           Entire home/apt     239.800000\n",
       "                        Private room         46.297297\n",
       "Ashburn                 Entire home/apt      99.428571\n",
       "                        Private room         38.500000\n",
       "Auburn Gresham          Entire home/apt     229.500000\n",
       "                        Private room         73.000000\n",
       "Austin                  Entire home/apt     146.962963\n",
       "                        Private room         37.227273\n",
       "Avalon Park             Entire home/apt     121.333333\n",
       "                        Private room         45.000000\n",
       "Avondale                Entire home/apt     159.879630\n",
       "                        Private room         63.114286\n",
       "                        Shared room          30.000000\n",
       "Belmont Cragin          Entire home/apt      83.615385\n",
       "                        Private room         93.727273\n",
       "                        Shared room          57.000000\n",
       "Beverly                 Entire home/apt     112.000000\n",
       "                        Private room         33.000000\n",
       "Bridgeport              Entire home/apt     133.329114\n",
       "                        Private room         62.000000\n",
       "                        Shared room          15.000000\n",
       "Brighton Park           Entire home/apt     132.733333\n",
       "                        Private room         48.800000\n",
       "                        Shared room          39.000000\n",
       "Burnside                Entire home/apt     200.000000\n",
       "                        Private room         65.000000\n",
       "Calumet Heights         Entire home/apt     118.500000\n",
       "                        Private room         46.750000\n",
       "                        Shared room          15.900000\n",
       "Chatham                 Entire home/apt      81.181818\n",
       "                        Private room         41.333333\n",
       "Chicago Lawn            Entire home/apt      62.666667\n",
       "                        Private room         44.400000\n",
       "Clearing                Entire home/apt      78.000000\n",
       "                        Private room         60.000000\n",
       "Douglas                 Entire home/apt     156.250000\n",
       "                        Private room        111.761905\n",
       "                        Shared room         120.000000\n",
       "Dunning                 Entire home/apt      99.600000\n",
       "                        Private room         56.562500\n",
       "East Garfield Park      Entire home/apt     120.555556\n",
       "                        Private room         49.396552\n",
       "East Side               Entire home/apt      75.000000\n",
       "Edgewater               Entire home/apt     130.408163\n",
       "                        Private room         83.514286\n",
       "                        Shared room          50.000000\n",
       "Edison Park             Entire home/apt     114.000000\n",
       "Englewood               Entire home/apt     114.000000\n",
       "                        Private room         49.600000\n",
       "                        Shared room          80.000000\n",
       "Forest Glen             Entire home/apt     138.250000\n",
       "                        Private room         49.125000\n",
       "Fuller Park             Entire home/apt      87.333333\n",
       "Gage Park               Entire home/apt      97.500000\n",
       "                        Private room         43.000000\n",
       "Garfield Ridge          Entire home/apt     132.714286\n",
       "                        Private room         31.000000\n",
       "Grand Boulevard         Entire home/apt     143.788462\n",
       "                        Private room         94.387755\n",
       "                        Shared room          32.000000\n",
       "Greater Grand Crossing  Entire home/apt     122.071429\n",
       "                        Private room         43.916667\n",
       "                        Shared room          56.750000\n",
       "Hegewisch               Entire home/apt     124.666667\n",
       "Hermosa                 Entire home/apt      85.307692\n",
       "                        Private room         34.833333\n",
       "Humboldt Park           Entire home/apt     106.200000\n",
       "                        Private room         45.052632\n",
       "                        Shared room          41.250000\n",
       "Hyde Park               Entire home/apt      96.358491\n",
       "                        Private room         85.714286\n",
       "Irving Park             Entire home/apt     167.809524\n",
       "                        Private room         55.298507\n",
       "                        Shared room          36.750000\n",
       "Jefferson Park          Entire home/apt     116.030303\n",
       "                        Private room         48.200000\n",
       "                        Shared room          33.000000\n",
       "Kenwood                 Entire home/apt     188.840000\n",
       "                        Private room         74.882353\n",
       "Lake View               Entire home/apt     208.501253\n",
       "                        Hotel room           94.900000\n",
       "                        Private room         87.811321\n",
       "                        Shared room          76.444444\n",
       "Lincoln Park            Entire home/apt     198.415385\n",
       "                        Private room        105.846154\n",
       "                        Shared room          45.750000\n",
       "Lincoln Square          Entire home/apt     126.600000\n",
       "                        Private room         53.571429\n",
       "Logan Square            Entire home/apt     159.146965\n",
       "                        Private room         73.204819\n",
       "                        Shared room          28.000000\n",
       "Loop                    Entire home/apt     174.608309\n",
       "                        Private room        156.258065\n",
       "                        Shared room          55.000000\n",
       "Lower West Side         Entire home/apt     113.841667\n",
       "                        Private room         94.434783\n",
       "                        Shared room          30.000000\n",
       "Mckinley Park           Entire home/apt     244.615385\n",
       "                        Private room         36.769231\n",
       "Montclare               Entire home/apt      89.000000\n",
       "                        Private room         68.500000\n",
       "Morgan Park             Entire home/apt     103.250000\n",
       "                        Private room         35.000000\n",
       "Mount Greenwood         Entire home/apt      85.000000\n",
       "Near North Side         Entire home/apt     209.839100\n",
       "                        Hotel room           91.615385\n",
       "                        Private room        148.828125\n",
       "                        Shared room          92.500000\n",
       "Near South Side         Entire home/apt     172.269565\n",
       "                        Private room         92.033333\n",
       "Near West Side          Entire home/apt     187.413333\n",
       "                        Private room         60.315217\n",
       "                        Shared room          23.000000\n",
       "New City                Entire home/apt      74.800000\n",
       "                        Private room         65.000000\n",
       "North Center            Entire home/apt     173.280000\n",
       "                        Private room         67.818182\n",
       "                        Shared room         250.000000\n",
       "North Lawndale          Entire home/apt      86.222222\n",
       "                        Private room         36.850000\n",
       "                        Shared room          15.000000\n",
       "North Park              Entire home/apt     138.687500\n",
       "                        Private room         59.818182\n",
       "Norwood Park            Entire home/apt      92.500000\n",
       "                        Private room         55.133333\n",
       "                        Shared room          43.000000\n",
       "Oakland                 Entire home/apt     312.125000\n",
       "                        Private room         60.875000\n",
       "Ohare                   Entire home/apt      95.500000\n",
       "                        Private room         51.000000\n",
       "Portage Park            Entire home/apt     129.344828\n",
       "                        Private room         61.120000\n",
       "Pullman                 Entire home/apt     100.000000\n",
       "                        Private room         30.000000\n",
       "Riverdale               Private room         37.666667\n",
       "Rogers Park             Entire home/apt     151.785714\n",
       "                        Private room         63.509434\n",
       "                        Shared room          52.500000\n",
       "Roseland                Entire home/apt      81.000000\n",
       "                        Private room        127.500000\n",
       "South Chicago           Entire home/apt     171.333333\n",
       "                        Private room         76.266667\n",
       "South Deering           Entire home/apt     150.000000\n",
       "                        Private room         25.000000\n",
       "South Lawndale          Entire home/apt      78.566667\n",
       "                        Private room         46.909091\n",
       "                        Shared room          25.000000\n",
       "South Shore             Entire home/apt     128.268293\n",
       "                        Private room         38.591837\n",
       "                        Shared room          20.000000\n",
       "Uptown                  Entire home/apt     186.504762\n",
       "                        Hotel room          261.666667\n",
       "                        Private room         87.174603\n",
       "Washington Heights      Entire home/apt     279.000000\n",
       "                        Private room         44.400000\n",
       "Washington Park         Entire home/apt     153.111111\n",
       "                        Private room         81.782609\n",
       "                        Shared room         100.000000\n",
       "West Elsdon             Entire home/apt      96.000000\n",
       "                        Private room         75.000000\n",
       "West Englewood          Entire home/apt    1500.000000\n",
       "                        Private room         56.500000\n",
       "West Garfield Park      Entire home/apt     152.800000\n",
       "                        Private room         37.888889\n",
       "West Lawn               Entire home/apt      51.666667\n",
       "                        Private room         32.000000\n",
       "West Pullman            Entire home/apt      90.000000\n",
       "                        Private room        100.000000\n",
       "West Ridge              Entire home/apt     127.909091\n",
       "                        Private room         52.033333\n",
       "                        Shared room          20.833333\n",
       "West Town               Entire home/apt     189.951807\n",
       "                        Hotel room          141.388889\n",
       "                        Private room         76.576355\n",
       "                        Shared room          85.500000\n",
       "Woodlawn                Entire home/apt     117.785714\n",
       "                        Private room         45.660714\n",
       "Name: price, dtype: float64"
      ]
     },
     "execution_count": 47,
     "metadata": {},
     "output_type": "execute_result"
    }
   ],
   "source": [
    "# What is the Average Price based on neighborhood and roon_type\n",
    "pd.set_option(\"display.max_rows\",182)\n",
    "data.price.groupby([data.neighbourhood,data.room_type]).mean()"
   ]
  },
  {
   "cell_type": "code",
   "execution_count": 48,
   "id": "d220324a",
   "metadata": {},
   "outputs": [
    {
     "data": {
      "text/html": [
       "<div>\n",
       "<style scoped>\n",
       "    .dataframe tbody tr th:only-of-type {\n",
       "        vertical-align: middle;\n",
       "    }\n",
       "\n",
       "    .dataframe tbody tr th {\n",
       "        vertical-align: top;\n",
       "    }\n",
       "\n",
       "    .dataframe thead th {\n",
       "        text-align: right;\n",
       "    }\n",
       "</style>\n",
       "<table border=\"1\" class=\"dataframe\">\n",
       "  <thead>\n",
       "    <tr style=\"text-align: right;\">\n",
       "      <th>room_type</th>\n",
       "      <th>Entire home/apt</th>\n",
       "      <th>Hotel room</th>\n",
       "      <th>Private room</th>\n",
       "      <th>Shared room</th>\n",
       "    </tr>\n",
       "    <tr>\n",
       "      <th>neighbourhood</th>\n",
       "      <th></th>\n",
       "      <th></th>\n",
       "      <th></th>\n",
       "      <th></th>\n",
       "    </tr>\n",
       "  </thead>\n",
       "  <tbody>\n",
       "    <tr>\n",
       "      <th>Albany Park</th>\n",
       "      <td>135.166667</td>\n",
       "      <td>NaN</td>\n",
       "      <td>50.763158</td>\n",
       "      <td>NaN</td>\n",
       "    </tr>\n",
       "    <tr>\n",
       "      <th>Archer Heights</th>\n",
       "      <td>89.000000</td>\n",
       "      <td>NaN</td>\n",
       "      <td>76.666667</td>\n",
       "      <td>NaN</td>\n",
       "    </tr>\n",
       "    <tr>\n",
       "      <th>Armour Square</th>\n",
       "      <td>239.800000</td>\n",
       "      <td>NaN</td>\n",
       "      <td>46.297297</td>\n",
       "      <td>NaN</td>\n",
       "    </tr>\n",
       "    <tr>\n",
       "      <th>Ashburn</th>\n",
       "      <td>99.428571</td>\n",
       "      <td>NaN</td>\n",
       "      <td>38.500000</td>\n",
       "      <td>NaN</td>\n",
       "    </tr>\n",
       "    <tr>\n",
       "      <th>Auburn Gresham</th>\n",
       "      <td>229.500000</td>\n",
       "      <td>NaN</td>\n",
       "      <td>73.000000</td>\n",
       "      <td>NaN</td>\n",
       "    </tr>\n",
       "    <tr>\n",
       "      <th>Austin</th>\n",
       "      <td>146.962963</td>\n",
       "      <td>NaN</td>\n",
       "      <td>37.227273</td>\n",
       "      <td>NaN</td>\n",
       "    </tr>\n",
       "    <tr>\n",
       "      <th>Avalon Park</th>\n",
       "      <td>121.333333</td>\n",
       "      <td>NaN</td>\n",
       "      <td>45.000000</td>\n",
       "      <td>NaN</td>\n",
       "    </tr>\n",
       "    <tr>\n",
       "      <th>Avondale</th>\n",
       "      <td>159.879630</td>\n",
       "      <td>NaN</td>\n",
       "      <td>63.114286</td>\n",
       "      <td>30.000000</td>\n",
       "    </tr>\n",
       "    <tr>\n",
       "      <th>Belmont Cragin</th>\n",
       "      <td>83.615385</td>\n",
       "      <td>NaN</td>\n",
       "      <td>93.727273</td>\n",
       "      <td>57.000000</td>\n",
       "    </tr>\n",
       "    <tr>\n",
       "      <th>Beverly</th>\n",
       "      <td>112.000000</td>\n",
       "      <td>NaN</td>\n",
       "      <td>33.000000</td>\n",
       "      <td>NaN</td>\n",
       "    </tr>\n",
       "    <tr>\n",
       "      <th>Bridgeport</th>\n",
       "      <td>133.329114</td>\n",
       "      <td>NaN</td>\n",
       "      <td>62.000000</td>\n",
       "      <td>15.000000</td>\n",
       "    </tr>\n",
       "    <tr>\n",
       "      <th>Brighton Park</th>\n",
       "      <td>132.733333</td>\n",
       "      <td>NaN</td>\n",
       "      <td>48.800000</td>\n",
       "      <td>39.000000</td>\n",
       "    </tr>\n",
       "    <tr>\n",
       "      <th>Burnside</th>\n",
       "      <td>200.000000</td>\n",
       "      <td>NaN</td>\n",
       "      <td>65.000000</td>\n",
       "      <td>NaN</td>\n",
       "    </tr>\n",
       "    <tr>\n",
       "      <th>Calumet Heights</th>\n",
       "      <td>118.500000</td>\n",
       "      <td>NaN</td>\n",
       "      <td>46.750000</td>\n",
       "      <td>15.900000</td>\n",
       "    </tr>\n",
       "    <tr>\n",
       "      <th>Chatham</th>\n",
       "      <td>81.181818</td>\n",
       "      <td>NaN</td>\n",
       "      <td>41.333333</td>\n",
       "      <td>NaN</td>\n",
       "    </tr>\n",
       "    <tr>\n",
       "      <th>Chicago Lawn</th>\n",
       "      <td>62.666667</td>\n",
       "      <td>NaN</td>\n",
       "      <td>44.400000</td>\n",
       "      <td>NaN</td>\n",
       "    </tr>\n",
       "    <tr>\n",
       "      <th>Clearing</th>\n",
       "      <td>78.000000</td>\n",
       "      <td>NaN</td>\n",
       "      <td>60.000000</td>\n",
       "      <td>NaN</td>\n",
       "    </tr>\n",
       "    <tr>\n",
       "      <th>Douglas</th>\n",
       "      <td>156.250000</td>\n",
       "      <td>NaN</td>\n",
       "      <td>111.761905</td>\n",
       "      <td>120.000000</td>\n",
       "    </tr>\n",
       "    <tr>\n",
       "      <th>Dunning</th>\n",
       "      <td>99.600000</td>\n",
       "      <td>NaN</td>\n",
       "      <td>56.562500</td>\n",
       "      <td>NaN</td>\n",
       "    </tr>\n",
       "    <tr>\n",
       "      <th>East Garfield Park</th>\n",
       "      <td>120.555556</td>\n",
       "      <td>NaN</td>\n",
       "      <td>49.396552</td>\n",
       "      <td>NaN</td>\n",
       "    </tr>\n",
       "    <tr>\n",
       "      <th>East Side</th>\n",
       "      <td>75.000000</td>\n",
       "      <td>NaN</td>\n",
       "      <td>NaN</td>\n",
       "      <td>NaN</td>\n",
       "    </tr>\n",
       "    <tr>\n",
       "      <th>Edgewater</th>\n",
       "      <td>130.408163</td>\n",
       "      <td>NaN</td>\n",
       "      <td>83.514286</td>\n",
       "      <td>50.000000</td>\n",
       "    </tr>\n",
       "    <tr>\n",
       "      <th>Edison Park</th>\n",
       "      <td>114.000000</td>\n",
       "      <td>NaN</td>\n",
       "      <td>NaN</td>\n",
       "      <td>NaN</td>\n",
       "    </tr>\n",
       "    <tr>\n",
       "      <th>Englewood</th>\n",
       "      <td>114.000000</td>\n",
       "      <td>NaN</td>\n",
       "      <td>49.600000</td>\n",
       "      <td>80.000000</td>\n",
       "    </tr>\n",
       "    <tr>\n",
       "      <th>Forest Glen</th>\n",
       "      <td>138.250000</td>\n",
       "      <td>NaN</td>\n",
       "      <td>49.125000</td>\n",
       "      <td>NaN</td>\n",
       "    </tr>\n",
       "    <tr>\n",
       "      <th>Fuller Park</th>\n",
       "      <td>87.333333</td>\n",
       "      <td>NaN</td>\n",
       "      <td>NaN</td>\n",
       "      <td>NaN</td>\n",
       "    </tr>\n",
       "    <tr>\n",
       "      <th>Gage Park</th>\n",
       "      <td>97.500000</td>\n",
       "      <td>NaN</td>\n",
       "      <td>43.000000</td>\n",
       "      <td>NaN</td>\n",
       "    </tr>\n",
       "    <tr>\n",
       "      <th>Garfield Ridge</th>\n",
       "      <td>132.714286</td>\n",
       "      <td>NaN</td>\n",
       "      <td>31.000000</td>\n",
       "      <td>NaN</td>\n",
       "    </tr>\n",
       "    <tr>\n",
       "      <th>Grand Boulevard</th>\n",
       "      <td>143.788462</td>\n",
       "      <td>NaN</td>\n",
       "      <td>94.387755</td>\n",
       "      <td>32.000000</td>\n",
       "    </tr>\n",
       "    <tr>\n",
       "      <th>Greater Grand Crossing</th>\n",
       "      <td>122.071429</td>\n",
       "      <td>NaN</td>\n",
       "      <td>43.916667</td>\n",
       "      <td>56.750000</td>\n",
       "    </tr>\n",
       "    <tr>\n",
       "      <th>Hegewisch</th>\n",
       "      <td>124.666667</td>\n",
       "      <td>NaN</td>\n",
       "      <td>NaN</td>\n",
       "      <td>NaN</td>\n",
       "    </tr>\n",
       "    <tr>\n",
       "      <th>Hermosa</th>\n",
       "      <td>85.307692</td>\n",
       "      <td>NaN</td>\n",
       "      <td>34.833333</td>\n",
       "      <td>NaN</td>\n",
       "    </tr>\n",
       "    <tr>\n",
       "      <th>Humboldt Park</th>\n",
       "      <td>106.200000</td>\n",
       "      <td>NaN</td>\n",
       "      <td>45.052632</td>\n",
       "      <td>41.250000</td>\n",
       "    </tr>\n",
       "    <tr>\n",
       "      <th>Hyde Park</th>\n",
       "      <td>96.358491</td>\n",
       "      <td>NaN</td>\n",
       "      <td>85.714286</td>\n",
       "      <td>NaN</td>\n",
       "    </tr>\n",
       "    <tr>\n",
       "      <th>Irving Park</th>\n",
       "      <td>167.809524</td>\n",
       "      <td>NaN</td>\n",
       "      <td>55.298507</td>\n",
       "      <td>36.750000</td>\n",
       "    </tr>\n",
       "    <tr>\n",
       "      <th>Jefferson Park</th>\n",
       "      <td>116.030303</td>\n",
       "      <td>NaN</td>\n",
       "      <td>48.200000</td>\n",
       "      <td>33.000000</td>\n",
       "    </tr>\n",
       "    <tr>\n",
       "      <th>Kenwood</th>\n",
       "      <td>188.840000</td>\n",
       "      <td>NaN</td>\n",
       "      <td>74.882353</td>\n",
       "      <td>NaN</td>\n",
       "    </tr>\n",
       "    <tr>\n",
       "      <th>Lake View</th>\n",
       "      <td>208.501253</td>\n",
       "      <td>94.900000</td>\n",
       "      <td>87.811321</td>\n",
       "      <td>76.444444</td>\n",
       "    </tr>\n",
       "    <tr>\n",
       "      <th>Lincoln Park</th>\n",
       "      <td>198.415385</td>\n",
       "      <td>NaN</td>\n",
       "      <td>105.846154</td>\n",
       "      <td>45.750000</td>\n",
       "    </tr>\n",
       "    <tr>\n",
       "      <th>Lincoln Square</th>\n",
       "      <td>126.600000</td>\n",
       "      <td>NaN</td>\n",
       "      <td>53.571429</td>\n",
       "      <td>NaN</td>\n",
       "    </tr>\n",
       "    <tr>\n",
       "      <th>Logan Square</th>\n",
       "      <td>159.146965</td>\n",
       "      <td>NaN</td>\n",
       "      <td>73.204819</td>\n",
       "      <td>28.000000</td>\n",
       "    </tr>\n",
       "    <tr>\n",
       "      <th>Loop</th>\n",
       "      <td>174.608309</td>\n",
       "      <td>NaN</td>\n",
       "      <td>156.258065</td>\n",
       "      <td>55.000000</td>\n",
       "    </tr>\n",
       "    <tr>\n",
       "      <th>Lower West Side</th>\n",
       "      <td>113.841667</td>\n",
       "      <td>NaN</td>\n",
       "      <td>94.434783</td>\n",
       "      <td>30.000000</td>\n",
       "    </tr>\n",
       "    <tr>\n",
       "      <th>Mckinley Park</th>\n",
       "      <td>244.615385</td>\n",
       "      <td>NaN</td>\n",
       "      <td>36.769231</td>\n",
       "      <td>NaN</td>\n",
       "    </tr>\n",
       "    <tr>\n",
       "      <th>Montclare</th>\n",
       "      <td>89.000000</td>\n",
       "      <td>NaN</td>\n",
       "      <td>68.500000</td>\n",
       "      <td>NaN</td>\n",
       "    </tr>\n",
       "    <tr>\n",
       "      <th>Morgan Park</th>\n",
       "      <td>103.250000</td>\n",
       "      <td>NaN</td>\n",
       "      <td>35.000000</td>\n",
       "      <td>NaN</td>\n",
       "    </tr>\n",
       "    <tr>\n",
       "      <th>Mount Greenwood</th>\n",
       "      <td>85.000000</td>\n",
       "      <td>NaN</td>\n",
       "      <td>NaN</td>\n",
       "      <td>NaN</td>\n",
       "    </tr>\n",
       "    <tr>\n",
       "      <th>Near North Side</th>\n",
       "      <td>209.839100</td>\n",
       "      <td>91.615385</td>\n",
       "      <td>148.828125</td>\n",
       "      <td>92.500000</td>\n",
       "    </tr>\n",
       "    <tr>\n",
       "      <th>Near South Side</th>\n",
       "      <td>172.269565</td>\n",
       "      <td>NaN</td>\n",
       "      <td>92.033333</td>\n",
       "      <td>NaN</td>\n",
       "    </tr>\n",
       "    <tr>\n",
       "      <th>Near West Side</th>\n",
       "      <td>187.413333</td>\n",
       "      <td>NaN</td>\n",
       "      <td>60.315217</td>\n",
       "      <td>23.000000</td>\n",
       "    </tr>\n",
       "    <tr>\n",
       "      <th>New City</th>\n",
       "      <td>74.800000</td>\n",
       "      <td>NaN</td>\n",
       "      <td>65.000000</td>\n",
       "      <td>NaN</td>\n",
       "    </tr>\n",
       "    <tr>\n",
       "      <th>North Center</th>\n",
       "      <td>173.280000</td>\n",
       "      <td>NaN</td>\n",
       "      <td>67.818182</td>\n",
       "      <td>250.000000</td>\n",
       "    </tr>\n",
       "    <tr>\n",
       "      <th>North Lawndale</th>\n",
       "      <td>86.222222</td>\n",
       "      <td>NaN</td>\n",
       "      <td>36.850000</td>\n",
       "      <td>15.000000</td>\n",
       "    </tr>\n",
       "    <tr>\n",
       "      <th>North Park</th>\n",
       "      <td>138.687500</td>\n",
       "      <td>NaN</td>\n",
       "      <td>59.818182</td>\n",
       "      <td>NaN</td>\n",
       "    </tr>\n",
       "    <tr>\n",
       "      <th>Norwood Park</th>\n",
       "      <td>92.500000</td>\n",
       "      <td>NaN</td>\n",
       "      <td>55.133333</td>\n",
       "      <td>43.000000</td>\n",
       "    </tr>\n",
       "    <tr>\n",
       "      <th>Oakland</th>\n",
       "      <td>312.125000</td>\n",
       "      <td>NaN</td>\n",
       "      <td>60.875000</td>\n",
       "      <td>NaN</td>\n",
       "    </tr>\n",
       "    <tr>\n",
       "      <th>Ohare</th>\n",
       "      <td>95.500000</td>\n",
       "      <td>NaN</td>\n",
       "      <td>51.000000</td>\n",
       "      <td>NaN</td>\n",
       "    </tr>\n",
       "    <tr>\n",
       "      <th>Portage Park</th>\n",
       "      <td>129.344828</td>\n",
       "      <td>NaN</td>\n",
       "      <td>61.120000</td>\n",
       "      <td>NaN</td>\n",
       "    </tr>\n",
       "    <tr>\n",
       "      <th>Pullman</th>\n",
       "      <td>100.000000</td>\n",
       "      <td>NaN</td>\n",
       "      <td>30.000000</td>\n",
       "      <td>NaN</td>\n",
       "    </tr>\n",
       "    <tr>\n",
       "      <th>Riverdale</th>\n",
       "      <td>NaN</td>\n",
       "      <td>NaN</td>\n",
       "      <td>37.666667</td>\n",
       "      <td>NaN</td>\n",
       "    </tr>\n",
       "    <tr>\n",
       "      <th>Rogers Park</th>\n",
       "      <td>151.785714</td>\n",
       "      <td>NaN</td>\n",
       "      <td>63.509434</td>\n",
       "      <td>52.500000</td>\n",
       "    </tr>\n",
       "    <tr>\n",
       "      <th>Roseland</th>\n",
       "      <td>81.000000</td>\n",
       "      <td>NaN</td>\n",
       "      <td>127.500000</td>\n",
       "      <td>NaN</td>\n",
       "    </tr>\n",
       "    <tr>\n",
       "      <th>South Chicago</th>\n",
       "      <td>171.333333</td>\n",
       "      <td>NaN</td>\n",
       "      <td>76.266667</td>\n",
       "      <td>NaN</td>\n",
       "    </tr>\n",
       "    <tr>\n",
       "      <th>South Deering</th>\n",
       "      <td>150.000000</td>\n",
       "      <td>NaN</td>\n",
       "      <td>25.000000</td>\n",
       "      <td>NaN</td>\n",
       "    </tr>\n",
       "    <tr>\n",
       "      <th>South Lawndale</th>\n",
       "      <td>78.566667</td>\n",
       "      <td>NaN</td>\n",
       "      <td>46.909091</td>\n",
       "      <td>25.000000</td>\n",
       "    </tr>\n",
       "    <tr>\n",
       "      <th>South Shore</th>\n",
       "      <td>128.268293</td>\n",
       "      <td>NaN</td>\n",
       "      <td>38.591837</td>\n",
       "      <td>20.000000</td>\n",
       "    </tr>\n",
       "    <tr>\n",
       "      <th>Uptown</th>\n",
       "      <td>186.504762</td>\n",
       "      <td>261.666667</td>\n",
       "      <td>87.174603</td>\n",
       "      <td>NaN</td>\n",
       "    </tr>\n",
       "    <tr>\n",
       "      <th>Washington Heights</th>\n",
       "      <td>279.000000</td>\n",
       "      <td>NaN</td>\n",
       "      <td>44.400000</td>\n",
       "      <td>NaN</td>\n",
       "    </tr>\n",
       "    <tr>\n",
       "      <th>Washington Park</th>\n",
       "      <td>153.111111</td>\n",
       "      <td>NaN</td>\n",
       "      <td>81.782609</td>\n",
       "      <td>100.000000</td>\n",
       "    </tr>\n",
       "    <tr>\n",
       "      <th>West Elsdon</th>\n",
       "      <td>96.000000</td>\n",
       "      <td>NaN</td>\n",
       "      <td>75.000000</td>\n",
       "      <td>NaN</td>\n",
       "    </tr>\n",
       "    <tr>\n",
       "      <th>West Englewood</th>\n",
       "      <td>1500.000000</td>\n",
       "      <td>NaN</td>\n",
       "      <td>56.500000</td>\n",
       "      <td>NaN</td>\n",
       "    </tr>\n",
       "    <tr>\n",
       "      <th>West Garfield Park</th>\n",
       "      <td>152.800000</td>\n",
       "      <td>NaN</td>\n",
       "      <td>37.888889</td>\n",
       "      <td>NaN</td>\n",
       "    </tr>\n",
       "    <tr>\n",
       "      <th>West Lawn</th>\n",
       "      <td>51.666667</td>\n",
       "      <td>NaN</td>\n",
       "      <td>32.000000</td>\n",
       "      <td>NaN</td>\n",
       "    </tr>\n",
       "    <tr>\n",
       "      <th>West Pullman</th>\n",
       "      <td>90.000000</td>\n",
       "      <td>NaN</td>\n",
       "      <td>100.000000</td>\n",
       "      <td>NaN</td>\n",
       "    </tr>\n",
       "    <tr>\n",
       "      <th>West Ridge</th>\n",
       "      <td>127.909091</td>\n",
       "      <td>NaN</td>\n",
       "      <td>52.033333</td>\n",
       "      <td>20.833333</td>\n",
       "    </tr>\n",
       "    <tr>\n",
       "      <th>West Town</th>\n",
       "      <td>189.951807</td>\n",
       "      <td>141.388889</td>\n",
       "      <td>76.576355</td>\n",
       "      <td>85.500000</td>\n",
       "    </tr>\n",
       "    <tr>\n",
       "      <th>Woodlawn</th>\n",
       "      <td>117.785714</td>\n",
       "      <td>NaN</td>\n",
       "      <td>45.660714</td>\n",
       "      <td>NaN</td>\n",
       "    </tr>\n",
       "  </tbody>\n",
       "</table>\n",
       "</div>"
      ],
      "text/plain": [
       "room_type               Entire home/apt  Hotel room  Private room  Shared room\n",
       "neighbourhood                                                                 \n",
       "Albany Park                  135.166667         NaN     50.763158          NaN\n",
       "Archer Heights                89.000000         NaN     76.666667          NaN\n",
       "Armour Square                239.800000         NaN     46.297297          NaN\n",
       "Ashburn                       99.428571         NaN     38.500000          NaN\n",
       "Auburn Gresham               229.500000         NaN     73.000000          NaN\n",
       "Austin                       146.962963         NaN     37.227273          NaN\n",
       "Avalon Park                  121.333333         NaN     45.000000          NaN\n",
       "Avondale                     159.879630         NaN     63.114286    30.000000\n",
       "Belmont Cragin                83.615385         NaN     93.727273    57.000000\n",
       "Beverly                      112.000000         NaN     33.000000          NaN\n",
       "Bridgeport                   133.329114         NaN     62.000000    15.000000\n",
       "Brighton Park                132.733333         NaN     48.800000    39.000000\n",
       "Burnside                     200.000000         NaN     65.000000          NaN\n",
       "Calumet Heights              118.500000         NaN     46.750000    15.900000\n",
       "Chatham                       81.181818         NaN     41.333333          NaN\n",
       "Chicago Lawn                  62.666667         NaN     44.400000          NaN\n",
       "Clearing                      78.000000         NaN     60.000000          NaN\n",
       "Douglas                      156.250000         NaN    111.761905   120.000000\n",
       "Dunning                       99.600000         NaN     56.562500          NaN\n",
       "East Garfield Park           120.555556         NaN     49.396552          NaN\n",
       "East Side                     75.000000         NaN           NaN          NaN\n",
       "Edgewater                    130.408163         NaN     83.514286    50.000000\n",
       "Edison Park                  114.000000         NaN           NaN          NaN\n",
       "Englewood                    114.000000         NaN     49.600000    80.000000\n",
       "Forest Glen                  138.250000         NaN     49.125000          NaN\n",
       "Fuller Park                   87.333333         NaN           NaN          NaN\n",
       "Gage Park                     97.500000         NaN     43.000000          NaN\n",
       "Garfield Ridge               132.714286         NaN     31.000000          NaN\n",
       "Grand Boulevard              143.788462         NaN     94.387755    32.000000\n",
       "Greater Grand Crossing       122.071429         NaN     43.916667    56.750000\n",
       "Hegewisch                    124.666667         NaN           NaN          NaN\n",
       "Hermosa                       85.307692         NaN     34.833333          NaN\n",
       "Humboldt Park                106.200000         NaN     45.052632    41.250000\n",
       "Hyde Park                     96.358491         NaN     85.714286          NaN\n",
       "Irving Park                  167.809524         NaN     55.298507    36.750000\n",
       "Jefferson Park               116.030303         NaN     48.200000    33.000000\n",
       "Kenwood                      188.840000         NaN     74.882353          NaN\n",
       "Lake View                    208.501253   94.900000     87.811321    76.444444\n",
       "Lincoln Park                 198.415385         NaN    105.846154    45.750000\n",
       "Lincoln Square               126.600000         NaN     53.571429          NaN\n",
       "Logan Square                 159.146965         NaN     73.204819    28.000000\n",
       "Loop                         174.608309         NaN    156.258065    55.000000\n",
       "Lower West Side              113.841667         NaN     94.434783    30.000000\n",
       "Mckinley Park                244.615385         NaN     36.769231          NaN\n",
       "Montclare                     89.000000         NaN     68.500000          NaN\n",
       "Morgan Park                  103.250000         NaN     35.000000          NaN\n",
       "Mount Greenwood               85.000000         NaN           NaN          NaN\n",
       "Near North Side              209.839100   91.615385    148.828125    92.500000\n",
       "Near South Side              172.269565         NaN     92.033333          NaN\n",
       "Near West Side               187.413333         NaN     60.315217    23.000000\n",
       "New City                      74.800000         NaN     65.000000          NaN\n",
       "North Center                 173.280000         NaN     67.818182   250.000000\n",
       "North Lawndale                86.222222         NaN     36.850000    15.000000\n",
       "North Park                   138.687500         NaN     59.818182          NaN\n",
       "Norwood Park                  92.500000         NaN     55.133333    43.000000\n",
       "Oakland                      312.125000         NaN     60.875000          NaN\n",
       "Ohare                         95.500000         NaN     51.000000          NaN\n",
       "Portage Park                 129.344828         NaN     61.120000          NaN\n",
       "Pullman                      100.000000         NaN     30.000000          NaN\n",
       "Riverdale                           NaN         NaN     37.666667          NaN\n",
       "Rogers Park                  151.785714         NaN     63.509434    52.500000\n",
       "Roseland                      81.000000         NaN    127.500000          NaN\n",
       "South Chicago                171.333333         NaN     76.266667          NaN\n",
       "South Deering                150.000000         NaN     25.000000          NaN\n",
       "South Lawndale                78.566667         NaN     46.909091    25.000000\n",
       "South Shore                  128.268293         NaN     38.591837    20.000000\n",
       "Uptown                       186.504762  261.666667     87.174603          NaN\n",
       "Washington Heights           279.000000         NaN     44.400000          NaN\n",
       "Washington Park              153.111111         NaN     81.782609   100.000000\n",
       "West Elsdon                   96.000000         NaN     75.000000          NaN\n",
       "West Englewood              1500.000000         NaN     56.500000          NaN\n",
       "West Garfield Park           152.800000         NaN     37.888889          NaN\n",
       "West Lawn                     51.666667         NaN     32.000000          NaN\n",
       "West Pullman                  90.000000         NaN    100.000000          NaN\n",
       "West Ridge                   127.909091         NaN     52.033333    20.833333\n",
       "West Town                    189.951807  141.388889     76.576355    85.500000\n",
       "Woodlawn                     117.785714         NaN     45.660714          NaN"
      ]
     },
     "execution_count": 48,
     "metadata": {},
     "output_type": "execute_result"
    }
   ],
   "source": [
    "pd.pivot_table(data,values=\"price\",columns=\"room_type\",index=\"neighbourhood\")"
   ]
  },
  {
   "cell_type": "code",
   "execution_count": 49,
   "id": "a03fe25f",
   "metadata": {},
   "outputs": [
    {
     "name": "stdout",
     "output_type": "stream",
     "text": [
      "<class 'pandas.core.frame.DataFrame'>\n",
      "RangeIndex: 6389 entries, 0 to 6388\n",
      "Data columns (total 12 columns):\n",
      " #   Column                          Non-Null Count  Dtype  \n",
      "---  ------                          --------------  -----  \n",
      " 0   name                            6389 non-null   object \n",
      " 1   host_name                       6389 non-null   object \n",
      " 2   neighbourhood                   6389 non-null   object \n",
      " 3   latitude                        6389 non-null   float64\n",
      " 4   longitude                       6389 non-null   float64\n",
      " 5   room_type                       6389 non-null   object \n",
      " 6   price                           6389 non-null   int64  \n",
      " 7   minimum_nights                  6389 non-null   int64  \n",
      " 8   number_of_reviews               6389 non-null   int64  \n",
      " 9   reviews_per_month               6389 non-null   float64\n",
      " 10  calculated_host_listings_count  6389 non-null   int64  \n",
      " 11  availability_365                6389 non-null   int64  \n",
      "dtypes: float64(3), int64(5), object(4)\n",
      "memory usage: 599.1+ KB\n"
     ]
    }
   ],
   "source": [
    "data.info()"
   ]
  },
  {
   "cell_type": "markdown",
   "id": "6487fe89",
   "metadata": {},
   "source": [
    "## Hypothesis Testing"
   ]
  },
  {
   "cell_type": "markdown",
   "id": "9e7c0fee",
   "metadata": {},
   "source": [
    "##### Test the Null Average Price of different room types"
   ]
  },
  {
   "cell_type": "code",
   "execution_count": 50,
   "id": "c8922ee3",
   "metadata": {},
   "outputs": [
    {
     "data": {
      "text/plain": [
       "room_type\n",
       "Entire home/apt    172.149807\n",
       "Hotel room         112.171429\n",
       "Private room        72.821311\n",
       "Shared room         49.688889\n",
       "Name: price, dtype: float64"
      ]
     },
     "execution_count": 50,
     "metadata": {},
     "output_type": "execute_result"
    }
   ],
   "source": [
    "data.price.groupby(data.room_type).mean()"
   ]
  },
  {
   "cell_type": "code",
   "execution_count": 51,
   "id": "498aa247",
   "metadata": {},
   "outputs": [],
   "source": [
    "#Null:There is no significante difference between average price for different rooms\n",
    "#Alternate:There is a significante difference between average price for different rooms"
   ]
  },
  {
   "cell_type": "code",
   "execution_count": 52,
   "id": "96e5457b",
   "metadata": {},
   "outputs": [],
   "source": [
    "entire=data[data.room_type==\"Entire home/apt\"]\n",
    "hotel=data[data.room_type==\"Hotel room\"]\n",
    "private=data[data.room_type==\"Private room\"]\n",
    "shared=data[data.room_type==\"Shared room\"]"
   ]
  },
  {
   "cell_type": "code",
   "execution_count": 53,
   "id": "6482b9a9",
   "metadata": {},
   "outputs": [],
   "source": [
    "from scipy.stats import f_oneway"
   ]
  },
  {
   "cell_type": "code",
   "execution_count": 54,
   "id": "d75c6ac5",
   "metadata": {},
   "outputs": [
    {
     "data": {
      "text/plain": [
       "F_onewayResult(statistic=157.15287470273987, pvalue=2.828381901412185e-98)"
      ]
     },
     "execution_count": 54,
     "metadata": {},
     "output_type": "execute_result"
    }
   ],
   "source": [
    "f_oneway(entire.price,hotel.price,private.price,shared.price)"
   ]
  },
  {
   "cell_type": "code",
   "execution_count": 55,
   "id": "54ecd2ec",
   "metadata": {},
   "outputs": [],
   "source": [
    "# since pvalue=2.5550788965214003e-32 is lessthan 0.05 we reject null hypothesis\n",
    "# we may conclude that there is a significante difference between average price for different rooms"
   ]
  },
  {
   "cell_type": "code",
   "execution_count": null,
   "id": "13bfba02",
   "metadata": {},
   "outputs": [],
   "source": []
  },
  {
   "cell_type": "code",
   "execution_count": 56,
   "id": "a0e12c0a",
   "metadata": {},
   "outputs": [],
   "source": [
    "numcols=data.select_dtypes(include=np.number)\n",
    "objcols=data.select_dtypes(include=[\"object\"])"
   ]
  },
  {
   "cell_type": "code",
   "execution_count": 57,
   "id": "8f481308",
   "metadata": {},
   "outputs": [
    {
     "data": {
      "text/plain": [
       "Index(['latitude', 'longitude', 'price', 'minimum_nights', 'number_of_reviews',\n",
       "       'reviews_per_month', 'calculated_host_listings_count',\n",
       "       'availability_365'],\n",
       "      dtype='object')"
      ]
     },
     "execution_count": 57,
     "metadata": {},
     "output_type": "execute_result"
    }
   ],
   "source": [
    "numcols.columns"
   ]
  },
  {
   "cell_type": "code",
   "execution_count": 58,
   "id": "f1b23686",
   "metadata": {},
   "outputs": [
    {
     "data": {
      "text/plain": [
       "Index(['name', 'host_name', 'neighbourhood', 'room_type'], dtype='object')"
      ]
     },
     "execution_count": 58,
     "metadata": {},
     "output_type": "execute_result"
    }
   ],
   "source": [
    "objcols.columns"
   ]
  },
  {
   "cell_type": "code",
   "execution_count": 59,
   "id": "8148af68",
   "metadata": {
    "scrolled": true
   },
   "outputs": [
    {
     "name": "stdout",
     "output_type": "stream",
     "text": [
      "(6389, 8)\n",
      "(6389, 4)\n"
     ]
    }
   ],
   "source": [
    "print(numcols.shape)\n",
    "print(objcols.shape)"
   ]
  },
  {
   "cell_type": "code",
   "execution_count": 60,
   "id": "533bf10b",
   "metadata": {},
   "outputs": [
    {
     "data": {
      "text/plain": [
       "latitude                          0\n",
       "longitude                         0\n",
       "price                             0\n",
       "minimum_nights                    0\n",
       "number_of_reviews                 0\n",
       "reviews_per_month                 0\n",
       "calculated_host_listings_count    0\n",
       "availability_365                  0\n",
       "dtype: int64"
      ]
     },
     "execution_count": 60,
     "metadata": {},
     "output_type": "execute_result"
    }
   ],
   "source": [
    "numcols.isnull().sum()"
   ]
  },
  {
   "cell_type": "code",
   "execution_count": 61,
   "id": "5ebf57ac",
   "metadata": {},
   "outputs": [
    {
     "data": {
      "text/plain": [
       "name             0\n",
       "host_name        0\n",
       "neighbourhood    0\n",
       "room_type        0\n",
       "dtype: int64"
      ]
     },
     "execution_count": 61,
     "metadata": {},
     "output_type": "execute_result"
    }
   ],
   "source": [
    "objcols.isnull().sum()"
   ]
  },
  {
   "cell_type": "code",
   "execution_count": 62,
   "id": "1bce3a77",
   "metadata": {},
   "outputs": [],
   "source": [
    "objcols=objcols.drop(['name', 'host_name'],axis=1)"
   ]
  },
  {
   "cell_type": "code",
   "execution_count": 63,
   "id": "59b45756",
   "metadata": {},
   "outputs": [
    {
     "data": {
      "text/plain": [
       "(6389, 2)"
      ]
     },
     "execution_count": 63,
     "metadata": {},
     "output_type": "execute_result"
    }
   ],
   "source": [
    "objcols.shape"
   ]
  },
  {
   "cell_type": "code",
   "execution_count": 64,
   "id": "2db56627",
   "metadata": {},
   "outputs": [
    {
     "data": {
      "text/html": [
       "<div>\n",
       "<style scoped>\n",
       "    .dataframe tbody tr th:only-of-type {\n",
       "        vertical-align: middle;\n",
       "    }\n",
       "\n",
       "    .dataframe tbody tr th {\n",
       "        vertical-align: top;\n",
       "    }\n",
       "\n",
       "    .dataframe thead th {\n",
       "        text-align: right;\n",
       "    }\n",
       "</style>\n",
       "<table border=\"1\" class=\"dataframe\">\n",
       "  <thead>\n",
       "    <tr style=\"text-align: right;\">\n",
       "      <th></th>\n",
       "      <th>latitude</th>\n",
       "      <th>longitude</th>\n",
       "      <th>price</th>\n",
       "      <th>minimum_nights</th>\n",
       "      <th>number_of_reviews</th>\n",
       "      <th>reviews_per_month</th>\n",
       "      <th>calculated_host_listings_count</th>\n",
       "      <th>availability_365</th>\n",
       "    </tr>\n",
       "  </thead>\n",
       "  <tbody>\n",
       "    <tr>\n",
       "      <th>0</th>\n",
       "      <td>41.78790</td>\n",
       "      <td>-87.58780</td>\n",
       "      <td>60</td>\n",
       "      <td>2</td>\n",
       "      <td>178</td>\n",
       "      <td>2.56</td>\n",
       "      <td>1</td>\n",
       "      <td>353</td>\n",
       "    </tr>\n",
       "    <tr>\n",
       "      <th>1</th>\n",
       "      <td>41.85495</td>\n",
       "      <td>-87.69696</td>\n",
       "      <td>105</td>\n",
       "      <td>2</td>\n",
       "      <td>395</td>\n",
       "      <td>2.81</td>\n",
       "      <td>1</td>\n",
       "      <td>155</td>\n",
       "    </tr>\n",
       "    <tr>\n",
       "      <th>2</th>\n",
       "      <td>41.90289</td>\n",
       "      <td>-87.68182</td>\n",
       "      <td>60</td>\n",
       "      <td>2</td>\n",
       "      <td>384</td>\n",
       "      <td>2.81</td>\n",
       "      <td>1</td>\n",
       "      <td>321</td>\n",
       "    </tr>\n",
       "    <tr>\n",
       "      <th>3</th>\n",
       "      <td>41.91769</td>\n",
       "      <td>-87.63788</td>\n",
       "      <td>65</td>\n",
       "      <td>4</td>\n",
       "      <td>49</td>\n",
       "      <td>0.63</td>\n",
       "      <td>9</td>\n",
       "      <td>300</td>\n",
       "    </tr>\n",
       "    <tr>\n",
       "      <th>4</th>\n",
       "      <td>41.79612</td>\n",
       "      <td>-87.59261</td>\n",
       "      <td>21</td>\n",
       "      <td>1</td>\n",
       "      <td>44</td>\n",
       "      <td>0.61</td>\n",
       "      <td>5</td>\n",
       "      <td>168</td>\n",
       "    </tr>\n",
       "  </tbody>\n",
       "</table>\n",
       "</div>"
      ],
      "text/plain": [
       "   latitude  longitude  price  minimum_nights  number_of_reviews  \\\n",
       "0  41.78790  -87.58780     60               2                178   \n",
       "1  41.85495  -87.69696    105               2                395   \n",
       "2  41.90289  -87.68182     60               2                384   \n",
       "3  41.91769  -87.63788     65               4                 49   \n",
       "4  41.79612  -87.59261     21               1                 44   \n",
       "\n",
       "   reviews_per_month  calculated_host_listings_count  availability_365  \n",
       "0               2.56                               1               353  \n",
       "1               2.81                               1               155  \n",
       "2               2.81                               1               321  \n",
       "3               0.63                               9               300  \n",
       "4               0.61                               5               168  "
      ]
     },
     "execution_count": 64,
     "metadata": {},
     "output_type": "execute_result"
    }
   ],
   "source": [
    "numcols.head()"
   ]
  },
  {
   "cell_type": "code",
   "execution_count": 65,
   "id": "023bf49d",
   "metadata": {},
   "outputs": [],
   "source": [
    "y=numcols.price"
   ]
  },
  {
   "cell_type": "code",
   "execution_count": 66,
   "id": "2328a530",
   "metadata": {},
   "outputs": [],
   "source": [
    "numcols=numcols.drop(\"price\",axis=1)"
   ]
  },
  {
   "cell_type": "code",
   "execution_count": 67,
   "id": "ac3cb56a",
   "metadata": {},
   "outputs": [
    {
     "data": {
      "text/html": [
       "<div>\n",
       "<style scoped>\n",
       "    .dataframe tbody tr th:only-of-type {\n",
       "        vertical-align: middle;\n",
       "    }\n",
       "\n",
       "    .dataframe tbody tr th {\n",
       "        vertical-align: top;\n",
       "    }\n",
       "\n",
       "    .dataframe thead th {\n",
       "        text-align: right;\n",
       "    }\n",
       "</style>\n",
       "<table border=\"1\" class=\"dataframe\">\n",
       "  <thead>\n",
       "    <tr style=\"text-align: right;\">\n",
       "      <th></th>\n",
       "      <th>latitude</th>\n",
       "      <th>longitude</th>\n",
       "      <th>minimum_nights</th>\n",
       "      <th>number_of_reviews</th>\n",
       "      <th>reviews_per_month</th>\n",
       "      <th>calculated_host_listings_count</th>\n",
       "      <th>availability_365</th>\n",
       "    </tr>\n",
       "  </thead>\n",
       "  <tbody>\n",
       "    <tr>\n",
       "      <th>count</th>\n",
       "      <td>6389.000000</td>\n",
       "      <td>6389.000000</td>\n",
       "      <td>6389.000000</td>\n",
       "      <td>6389.000000</td>\n",
       "      <td>6389.000000</td>\n",
       "      <td>6389.000000</td>\n",
       "      <td>6389.000000</td>\n",
       "    </tr>\n",
       "    <tr>\n",
       "      <th>mean</th>\n",
       "      <td>41.899029</td>\n",
       "      <td>-87.664060</td>\n",
       "      <td>8.105650</td>\n",
       "      <td>42.790891</td>\n",
       "      <td>1.746133</td>\n",
       "      <td>13.612302</td>\n",
       "      <td>174.170293</td>\n",
       "    </tr>\n",
       "    <tr>\n",
       "      <th>std</th>\n",
       "      <td>0.058955</td>\n",
       "      <td>0.042431</td>\n",
       "      <td>22.782058</td>\n",
       "      <td>67.083863</td>\n",
       "      <td>1.584064</td>\n",
       "      <td>37.201786</td>\n",
       "      <td>138.879388</td>\n",
       "    </tr>\n",
       "    <tr>\n",
       "      <th>min</th>\n",
       "      <td>41.647360</td>\n",
       "      <td>-87.846810</td>\n",
       "      <td>1.000000</td>\n",
       "      <td>0.000000</td>\n",
       "      <td>0.020000</td>\n",
       "      <td>1.000000</td>\n",
       "      <td>0.000000</td>\n",
       "    </tr>\n",
       "    <tr>\n",
       "      <th>25%</th>\n",
       "      <td>41.872660</td>\n",
       "      <td>-87.687510</td>\n",
       "      <td>1.000000</td>\n",
       "      <td>2.000000</td>\n",
       "      <td>0.570000</td>\n",
       "      <td>1.000000</td>\n",
       "      <td>36.000000</td>\n",
       "    </tr>\n",
       "    <tr>\n",
       "      <th>50%</th>\n",
       "      <td>41.901860</td>\n",
       "      <td>-87.660880</td>\n",
       "      <td>2.000000</td>\n",
       "      <td>15.000000</td>\n",
       "      <td>1.740000</td>\n",
       "      <td>2.000000</td>\n",
       "      <td>161.000000</td>\n",
       "    </tr>\n",
       "    <tr>\n",
       "      <th>75%</th>\n",
       "      <td>41.939780</td>\n",
       "      <td>-87.633160</td>\n",
       "      <td>3.000000</td>\n",
       "      <td>56.000000</td>\n",
       "      <td>2.220000</td>\n",
       "      <td>7.000000</td>\n",
       "      <td>329.000000</td>\n",
       "    </tr>\n",
       "    <tr>\n",
       "      <th>max</th>\n",
       "      <td>42.022510</td>\n",
       "      <td>-87.537520</td>\n",
       "      <td>500.000000</td>\n",
       "      <td>632.000000</td>\n",
       "      <td>32.430000</td>\n",
       "      <td>205.000000</td>\n",
       "      <td>365.000000</td>\n",
       "    </tr>\n",
       "  </tbody>\n",
       "</table>\n",
       "</div>"
      ],
      "text/plain": [
       "          latitude    longitude  minimum_nights  number_of_reviews  \\\n",
       "count  6389.000000  6389.000000     6389.000000        6389.000000   \n",
       "mean     41.899029   -87.664060        8.105650          42.790891   \n",
       "std       0.058955     0.042431       22.782058          67.083863   \n",
       "min      41.647360   -87.846810        1.000000           0.000000   \n",
       "25%      41.872660   -87.687510        1.000000           2.000000   \n",
       "50%      41.901860   -87.660880        2.000000          15.000000   \n",
       "75%      41.939780   -87.633160        3.000000          56.000000   \n",
       "max      42.022510   -87.537520      500.000000         632.000000   \n",
       "\n",
       "       reviews_per_month  calculated_host_listings_count  availability_365  \n",
       "count        6389.000000                     6389.000000       6389.000000  \n",
       "mean            1.746133                       13.612302        174.170293  \n",
       "std             1.584064                       37.201786        138.879388  \n",
       "min             0.020000                        1.000000          0.000000  \n",
       "25%             0.570000                        1.000000         36.000000  \n",
       "50%             1.740000                        2.000000        161.000000  \n",
       "75%             2.220000                        7.000000        329.000000  \n",
       "max            32.430000                      205.000000        365.000000  "
      ]
     },
     "execution_count": 67,
     "metadata": {},
     "output_type": "execute_result"
    }
   ],
   "source": [
    "numcols.describe()"
   ]
  },
  {
   "cell_type": "code",
   "execution_count": 68,
   "id": "755f2926",
   "metadata": {},
   "outputs": [
    {
     "data": {
      "text/html": [
       "<div>\n",
       "<style scoped>\n",
       "    .dataframe tbody tr th:only-of-type {\n",
       "        vertical-align: middle;\n",
       "    }\n",
       "\n",
       "    .dataframe tbody tr th {\n",
       "        vertical-align: top;\n",
       "    }\n",
       "\n",
       "    .dataframe thead th {\n",
       "        text-align: right;\n",
       "    }\n",
       "</style>\n",
       "<table border=\"1\" class=\"dataframe\">\n",
       "  <thead>\n",
       "    <tr style=\"text-align: right;\">\n",
       "      <th></th>\n",
       "      <th>latitude</th>\n",
       "      <th>longitude</th>\n",
       "      <th>minimum_nights</th>\n",
       "      <th>number_of_reviews</th>\n",
       "      <th>reviews_per_month</th>\n",
       "      <th>calculated_host_listings_count</th>\n",
       "      <th>availability_365</th>\n",
       "    </tr>\n",
       "  </thead>\n",
       "  <tbody>\n",
       "    <tr>\n",
       "      <th>latitude</th>\n",
       "      <td>1.000000</td>\n",
       "      <td>-0.514316</td>\n",
       "      <td>-0.013517</td>\n",
       "      <td>0.062352</td>\n",
       "      <td>0.024518</td>\n",
       "      <td>-0.052669</td>\n",
       "      <td>-0.055401</td>\n",
       "    </tr>\n",
       "    <tr>\n",
       "      <th>longitude</th>\n",
       "      <td>-0.514316</td>\n",
       "      <td>1.000000</td>\n",
       "      <td>0.104288</td>\n",
       "      <td>-0.092507</td>\n",
       "      <td>-0.050255</td>\n",
       "      <td>0.207508</td>\n",
       "      <td>0.047937</td>\n",
       "    </tr>\n",
       "    <tr>\n",
       "      <th>minimum_nights</th>\n",
       "      <td>-0.013517</td>\n",
       "      <td>0.104288</td>\n",
       "      <td>1.000000</td>\n",
       "      <td>-0.126462</td>\n",
       "      <td>-0.105639</td>\n",
       "      <td>0.212548</td>\n",
       "      <td>0.156981</td>\n",
       "    </tr>\n",
       "    <tr>\n",
       "      <th>number_of_reviews</th>\n",
       "      <td>0.062352</td>\n",
       "      <td>-0.092507</td>\n",
       "      <td>-0.126462</td>\n",
       "      <td>1.000000</td>\n",
       "      <td>0.677159</td>\n",
       "      <td>-0.153644</td>\n",
       "      <td>0.013198</td>\n",
       "    </tr>\n",
       "    <tr>\n",
       "      <th>reviews_per_month</th>\n",
       "      <td>0.024518</td>\n",
       "      <td>-0.050255</td>\n",
       "      <td>-0.105639</td>\n",
       "      <td>0.677159</td>\n",
       "      <td>1.000000</td>\n",
       "      <td>-0.024113</td>\n",
       "      <td>0.018302</td>\n",
       "    </tr>\n",
       "    <tr>\n",
       "      <th>calculated_host_listings_count</th>\n",
       "      <td>-0.052669</td>\n",
       "      <td>0.207508</td>\n",
       "      <td>0.212548</td>\n",
       "      <td>-0.153644</td>\n",
       "      <td>-0.024113</td>\n",
       "      <td>1.000000</td>\n",
       "      <td>0.192102</td>\n",
       "    </tr>\n",
       "    <tr>\n",
       "      <th>availability_365</th>\n",
       "      <td>-0.055401</td>\n",
       "      <td>0.047937</td>\n",
       "      <td>0.156981</td>\n",
       "      <td>0.013198</td>\n",
       "      <td>0.018302</td>\n",
       "      <td>0.192102</td>\n",
       "      <td>1.000000</td>\n",
       "    </tr>\n",
       "  </tbody>\n",
       "</table>\n",
       "</div>"
      ],
      "text/plain": [
       "                                latitude  longitude  minimum_nights  \\\n",
       "latitude                        1.000000  -0.514316       -0.013517   \n",
       "longitude                      -0.514316   1.000000        0.104288   \n",
       "minimum_nights                 -0.013517   0.104288        1.000000   \n",
       "number_of_reviews               0.062352  -0.092507       -0.126462   \n",
       "reviews_per_month               0.024518  -0.050255       -0.105639   \n",
       "calculated_host_listings_count -0.052669   0.207508        0.212548   \n",
       "availability_365               -0.055401   0.047937        0.156981   \n",
       "\n",
       "                                number_of_reviews  reviews_per_month  \\\n",
       "latitude                                 0.062352           0.024518   \n",
       "longitude                               -0.092507          -0.050255   \n",
       "minimum_nights                          -0.126462          -0.105639   \n",
       "number_of_reviews                        1.000000           0.677159   \n",
       "reviews_per_month                        0.677159           1.000000   \n",
       "calculated_host_listings_count          -0.153644          -0.024113   \n",
       "availability_365                         0.013198           0.018302   \n",
       "\n",
       "                                calculated_host_listings_count  \\\n",
       "latitude                                             -0.052669   \n",
       "longitude                                             0.207508   \n",
       "minimum_nights                                        0.212548   \n",
       "number_of_reviews                                    -0.153644   \n",
       "reviews_per_month                                    -0.024113   \n",
       "calculated_host_listings_count                        1.000000   \n",
       "availability_365                                      0.192102   \n",
       "\n",
       "                                availability_365  \n",
       "latitude                               -0.055401  \n",
       "longitude                               0.047937  \n",
       "minimum_nights                          0.156981  \n",
       "number_of_reviews                       0.013198  \n",
       "reviews_per_month                       0.018302  \n",
       "calculated_host_listings_count          0.192102  \n",
       "availability_365                        1.000000  "
      ]
     },
     "execution_count": 68,
     "metadata": {},
     "output_type": "execute_result"
    }
   ],
   "source": [
    "numcols.corr()"
   ]
  },
  {
   "cell_type": "code",
   "execution_count": 69,
   "id": "9e301ca8",
   "metadata": {
    "scrolled": true
   },
   "outputs": [
    {
     "data": {
      "text/plain": [
       "<Axes: >"
      ]
     },
     "execution_count": 69,
     "metadata": {},
     "output_type": "execute_result"
    },
    {
     "data": {
      "image/png": "[encoded data removed]",
      "text/plain": [
       "<Figure size 640x480 with 2 Axes>"
      ]
     },
     "metadata": {},
     "output_type": "display_data"
    }
   ],
   "source": [
    "sns.heatmap(numcols.corr(),annot=True,cmap=\"crest\")"
   ]
  },
  {
   "cell_type": "markdown",
   "id": "58d3c89d",
   "metadata": {},
   "source": [
    "### Scaling"
   ]
  },
  {
   "cell_type": "code",
   "execution_count": 70,
   "id": "1f10f2d0",
   "metadata": {},
   "outputs": [],
   "source": [
    "from sklearn.preprocessing import RobustScaler"
   ]
  },
  {
   "cell_type": "code",
   "execution_count": 71,
   "id": "166fd895",
   "metadata": {},
   "outputs": [],
   "source": [
    "robust=RobustScaler()"
   ]
  },
  {
   "cell_type": "code",
   "execution_count": 72,
   "id": "606cac73",
   "metadata": {},
   "outputs": [],
   "source": [
    "numcols_robust=robust.fit_transform(numcols)"
   ]
  },
  {
   "cell_type": "code",
   "execution_count": 73,
   "id": "d13e9ce8",
   "metadata": {},
   "outputs": [],
   "source": [
    "numcols_robust=pd.DataFrame(numcols_robust,columns=numcols.columns)"
   ]
  },
  {
   "cell_type": "code",
   "execution_count": 74,
   "id": "3bc9db5f",
   "metadata": {},
   "outputs": [
    {
     "data": {
      "text/html": [
       "<div>\n",
       "<style scoped>\n",
       "    .dataframe tbody tr th:only-of-type {\n",
       "        vertical-align: middle;\n",
       "    }\n",
       "\n",
       "    .dataframe tbody tr th {\n",
       "        vertical-align: top;\n",
       "    }\n",
       "\n",
       "    .dataframe thead th {\n",
       "        text-align: right;\n",
       "    }\n",
       "</style>\n",
       "<table border=\"1\" class=\"dataframe\">\n",
       "  <thead>\n",
       "    <tr style=\"text-align: right;\">\n",
       "      <th></th>\n",
       "      <th>latitude</th>\n",
       "      <th>longitude</th>\n",
       "      <th>minimum_nights</th>\n",
       "      <th>number_of_reviews</th>\n",
       "      <th>reviews_per_month</th>\n",
       "      <th>calculated_host_listings_count</th>\n",
       "      <th>availability_365</th>\n",
       "    </tr>\n",
       "  </thead>\n",
       "  <tbody>\n",
       "    <tr>\n",
       "      <th>0</th>\n",
       "      <td>-1.697855</td>\n",
       "      <td>1.344618</td>\n",
       "      <td>0.0</td>\n",
       "      <td>3.018519</td>\n",
       "      <td>0.496970</td>\n",
       "      <td>-0.166667</td>\n",
       "      <td>0.655290</td>\n",
       "    </tr>\n",
       "    <tr>\n",
       "      <th>1</th>\n",
       "      <td>-0.698897</td>\n",
       "      <td>-0.663845</td>\n",
       "      <td>0.0</td>\n",
       "      <td>7.037037</td>\n",
       "      <td>0.648485</td>\n",
       "      <td>-0.166667</td>\n",
       "      <td>-0.020478</td>\n",
       "    </tr>\n",
       "    <tr>\n",
       "      <th>2</th>\n",
       "      <td>0.015346</td>\n",
       "      <td>-0.385281</td>\n",
       "      <td>0.0</td>\n",
       "      <td>6.833333</td>\n",
       "      <td>0.648485</td>\n",
       "      <td>-0.166667</td>\n",
       "      <td>0.546075</td>\n",
       "    </tr>\n",
       "    <tr>\n",
       "      <th>3</th>\n",
       "      <td>0.235846</td>\n",
       "      <td>0.423183</td>\n",
       "      <td>1.0</td>\n",
       "      <td>0.629630</td>\n",
       "      <td>-0.672727</td>\n",
       "      <td>1.166667</td>\n",
       "      <td>0.474403</td>\n",
       "    </tr>\n",
       "    <tr>\n",
       "      <th>4</th>\n",
       "      <td>-1.575387</td>\n",
       "      <td>1.256118</td>\n",
       "      <td>-0.5</td>\n",
       "      <td>0.537037</td>\n",
       "      <td>-0.684848</td>\n",
       "      <td>0.500000</td>\n",
       "      <td>0.023891</td>\n",
       "    </tr>\n",
       "  </tbody>\n",
       "</table>\n",
       "</div>"
      ],
      "text/plain": [
       "   latitude  longitude  minimum_nights  number_of_reviews  reviews_per_month  \\\n",
       "0 -1.697855   1.344618             0.0           3.018519           0.496970   \n",
       "1 -0.698897  -0.663845             0.0           7.037037           0.648485   \n",
       "2  0.015346  -0.385281             0.0           6.833333           0.648485   \n",
       "3  0.235846   0.423183             1.0           0.629630          -0.672727   \n",
       "4 -1.575387   1.256118            -0.5           0.537037          -0.684848   \n",
       "\n",
       "   calculated_host_listings_count  availability_365  \n",
       "0                       -0.166667          0.655290  \n",
       "1                       -0.166667         -0.020478  \n",
       "2                       -0.166667          0.546075  \n",
       "3                        1.166667          0.474403  \n",
       "4                        0.500000          0.023891  "
      ]
     },
     "execution_count": 74,
     "metadata": {},
     "output_type": "execute_result"
    }
   ],
   "source": [
    "numcols_robust.head()"
   ]
  },
  {
   "cell_type": "code",
   "execution_count": 75,
   "id": "41361a4c",
   "metadata": {},
   "outputs": [],
   "source": [
    "#Label encoding\n",
    "from sklearn.preprocessing import LabelEncoder"
   ]
  },
  {
   "cell_type": "code",
   "execution_count": 76,
   "id": "38cee62c",
   "metadata": {},
   "outputs": [],
   "source": [
    "objcols_encoded=objcols.apply(LabelEncoder().fit_transform)"
   ]
  },
  {
   "cell_type": "code",
   "execution_count": 77,
   "id": "5661bdb2",
   "metadata": {},
   "outputs": [
    {
     "data": {
      "text/html": [
       "<div>\n",
       "<style scoped>\n",
       "    .dataframe tbody tr th:only-of-type {\n",
       "        vertical-align: middle;\n",
       "    }\n",
       "\n",
       "    .dataframe tbody tr th {\n",
       "        vertical-align: top;\n",
       "    }\n",
       "\n",
       "    .dataframe thead th {\n",
       "        text-align: right;\n",
       "    }\n",
       "</style>\n",
       "<table border=\"1\" class=\"dataframe\">\n",
       "  <thead>\n",
       "    <tr style=\"text-align: right;\">\n",
       "      <th></th>\n",
       "      <th>neighbourhood</th>\n",
       "      <th>room_type</th>\n",
       "    </tr>\n",
       "  </thead>\n",
       "  <tbody>\n",
       "    <tr>\n",
       "      <th>0</th>\n",
       "      <td>33</td>\n",
       "      <td>2</td>\n",
       "    </tr>\n",
       "    <tr>\n",
       "      <th>1</th>\n",
       "      <td>64</td>\n",
       "      <td>0</td>\n",
       "    </tr>\n",
       "    <tr>\n",
       "      <th>2</th>\n",
       "      <td>75</td>\n",
       "      <td>0</td>\n",
       "    </tr>\n",
       "    <tr>\n",
       "      <th>3</th>\n",
       "      <td>38</td>\n",
       "      <td>0</td>\n",
       "    </tr>\n",
       "    <tr>\n",
       "      <th>4</th>\n",
       "      <td>33</td>\n",
       "      <td>2</td>\n",
       "    </tr>\n",
       "  </tbody>\n",
       "</table>\n",
       "</div>"
      ],
      "text/plain": [
       "   neighbourhood  room_type\n",
       "0             33          2\n",
       "1             64          0\n",
       "2             75          0\n",
       "3             38          0\n",
       "4             33          2"
      ]
     },
     "execution_count": 77,
     "metadata": {},
     "output_type": "execute_result"
    }
   ],
   "source": [
    "objcols_encoded.head()"
   ]
  },
  {
   "cell_type": "code",
   "execution_count": 78,
   "id": "8a34ad39",
   "metadata": {},
   "outputs": [
    {
     "data": {
      "text/plain": [
       "neighbourhood    0\n",
       "room_type        0\n",
       "dtype: int64"
      ]
     },
     "execution_count": 78,
     "metadata": {},
     "output_type": "execute_result"
    }
   ],
   "source": [
    "objcols_encoded.isnull().sum()"
   ]
  },
  {
   "cell_type": "code",
   "execution_count": 79,
   "id": "7a97ad44",
   "metadata": {
    "scrolled": true
   },
   "outputs": [
    {
     "data": {
      "text/plain": [
       "latitude                          0\n",
       "longitude                         0\n",
       "minimum_nights                    0\n",
       "number_of_reviews                 0\n",
       "reviews_per_month                 0\n",
       "calculated_host_listings_count    0\n",
       "availability_365                  0\n",
       "dtype: int64"
      ]
     },
     "execution_count": 79,
     "metadata": {},
     "output_type": "execute_result"
    }
   ],
   "source": [
    "numcols_robust.isnull().sum()"
   ]
  },
  {
   "cell_type": "code",
   "execution_count": 80,
   "id": "8397b043",
   "metadata": {},
   "outputs": [
    {
     "name": "stdout",
     "output_type": "stream",
     "text": [
      "(6389, 7)\n",
      "(6389, 2)\n"
     ]
    }
   ],
   "source": [
    "print(numcols_robust.shape)\n",
    "print(objcols_encoded.shape)"
   ]
  },
  {
   "cell_type": "code",
   "execution_count": 81,
   "id": "6c485732",
   "metadata": {},
   "outputs": [],
   "source": [
    "combinedf=pd.concat([numcols_robust,objcols_encoded],axis=1)"
   ]
  },
  {
   "cell_type": "code",
   "execution_count": 82,
   "id": "a8e2ffb0",
   "metadata": {
    "scrolled": true
   },
   "outputs": [
    {
     "data": {
      "text/html": [
       "<div>\n",
       "<style scoped>\n",
       "    .dataframe tbody tr th:only-of-type {\n",
       "        vertical-align: middle;\n",
       "    }\n",
       "\n",
       "    .dataframe tbody tr th {\n",
       "        vertical-align: top;\n",
       "    }\n",
       "\n",
       "    .dataframe thead th {\n",
       "        text-align: right;\n",
       "    }\n",
       "</style>\n",
       "<table border=\"1\" class=\"dataframe\">\n",
       "  <thead>\n",
       "    <tr style=\"text-align: right;\">\n",
       "      <th></th>\n",
       "      <th>latitude</th>\n",
       "      <th>longitude</th>\n",
       "      <th>minimum_nights</th>\n",
       "      <th>number_of_reviews</th>\n",
       "      <th>reviews_per_month</th>\n",
       "      <th>calculated_host_listings_count</th>\n",
       "      <th>availability_365</th>\n",
       "      <th>neighbourhood</th>\n",
       "      <th>room_type</th>\n",
       "    </tr>\n",
       "  </thead>\n",
       "  <tbody>\n",
       "    <tr>\n",
       "      <th>0</th>\n",
       "      <td>-1.697855</td>\n",
       "      <td>1.344618</td>\n",
       "      <td>0.0</td>\n",
       "      <td>3.018519</td>\n",
       "      <td>0.496970</td>\n",
       "      <td>-0.166667</td>\n",
       "      <td>0.655290</td>\n",
       "      <td>33</td>\n",
       "      <td>2</td>\n",
       "    </tr>\n",
       "    <tr>\n",
       "      <th>1</th>\n",
       "      <td>-0.698897</td>\n",
       "      <td>-0.663845</td>\n",
       "      <td>0.0</td>\n",
       "      <td>7.037037</td>\n",
       "      <td>0.648485</td>\n",
       "      <td>-0.166667</td>\n",
       "      <td>-0.020478</td>\n",
       "      <td>64</td>\n",
       "      <td>0</td>\n",
       "    </tr>\n",
       "    <tr>\n",
       "      <th>2</th>\n",
       "      <td>0.015346</td>\n",
       "      <td>-0.385281</td>\n",
       "      <td>0.0</td>\n",
       "      <td>6.833333</td>\n",
       "      <td>0.648485</td>\n",
       "      <td>-0.166667</td>\n",
       "      <td>0.546075</td>\n",
       "      <td>75</td>\n",
       "      <td>0</td>\n",
       "    </tr>\n",
       "    <tr>\n",
       "      <th>3</th>\n",
       "      <td>0.235846</td>\n",
       "      <td>0.423183</td>\n",
       "      <td>1.0</td>\n",
       "      <td>0.629630</td>\n",
       "      <td>-0.672727</td>\n",
       "      <td>1.166667</td>\n",
       "      <td>0.474403</td>\n",
       "      <td>38</td>\n",
       "      <td>0</td>\n",
       "    </tr>\n",
       "    <tr>\n",
       "      <th>4</th>\n",
       "      <td>-1.575387</td>\n",
       "      <td>1.256118</td>\n",
       "      <td>-0.5</td>\n",
       "      <td>0.537037</td>\n",
       "      <td>-0.684848</td>\n",
       "      <td>0.500000</td>\n",
       "      <td>0.023891</td>\n",
       "      <td>33</td>\n",
       "      <td>2</td>\n",
       "    </tr>\n",
       "  </tbody>\n",
       "</table>\n",
       "</div>"
      ],
      "text/plain": [
       "   latitude  longitude  minimum_nights  number_of_reviews  reviews_per_month  \\\n",
       "0 -1.697855   1.344618             0.0           3.018519           0.496970   \n",
       "1 -0.698897  -0.663845             0.0           7.037037           0.648485   \n",
       "2  0.015346  -0.385281             0.0           6.833333           0.648485   \n",
       "3  0.235846   0.423183             1.0           0.629630          -0.672727   \n",
       "4 -1.575387   1.256118            -0.5           0.537037          -0.684848   \n",
       "\n",
       "   calculated_host_listings_count  availability_365  neighbourhood  room_type  \n",
       "0                       -0.166667          0.655290             33          2  \n",
       "1                       -0.166667         -0.020478             64          0  \n",
       "2                       -0.166667          0.546075             75          0  \n",
       "3                        1.166667          0.474403             38          0  \n",
       "4                        0.500000          0.023891             33          2  "
      ]
     },
     "execution_count": 82,
     "metadata": {},
     "output_type": "execute_result"
    }
   ],
   "source": [
    "combinedf.head()"
   ]
  },
  {
   "cell_type": "code",
   "execution_count": 83,
   "id": "6566333b",
   "metadata": {},
   "outputs": [
    {
     "data": {
      "text/html": [
       "<div>\n",
       "<style scoped>\n",
       "    .dataframe tbody tr th:only-of-type {\n",
       "        vertical-align: middle;\n",
       "    }\n",
       "\n",
       "    .dataframe tbody tr th {\n",
       "        vertical-align: top;\n",
       "    }\n",
       "\n",
       "    .dataframe thead th {\n",
       "        text-align: right;\n",
       "    }\n",
       "</style>\n",
       "<table border=\"1\" class=\"dataframe\">\n",
       "  <thead>\n",
       "    <tr style=\"text-align: right;\">\n",
       "      <th></th>\n",
       "      <th>latitude</th>\n",
       "      <th>longitude</th>\n",
       "      <th>minimum_nights</th>\n",
       "      <th>number_of_reviews</th>\n",
       "      <th>reviews_per_month</th>\n",
       "      <th>calculated_host_listings_count</th>\n",
       "      <th>availability_365</th>\n",
       "      <th>neighbourhood</th>\n",
       "      <th>room_type</th>\n",
       "    </tr>\n",
       "  </thead>\n",
       "  <tbody>\n",
       "    <tr>\n",
       "      <th>6384</th>\n",
       "      <td>-0.687128</td>\n",
       "      <td>0.658878</td>\n",
       "      <td>0.0</td>\n",
       "      <td>-0.277778</td>\n",
       "      <td>0.0032</td>\n",
       "      <td>0.333333</td>\n",
       "      <td>0.064846</td>\n",
       "      <td>48</td>\n",
       "      <td>0</td>\n",
       "    </tr>\n",
       "    <tr>\n",
       "      <th>6385</th>\n",
       "      <td>-0.689064</td>\n",
       "      <td>0.689236</td>\n",
       "      <td>0.0</td>\n",
       "      <td>-0.277778</td>\n",
       "      <td>0.0032</td>\n",
       "      <td>0.333333</td>\n",
       "      <td>0.064846</td>\n",
       "      <td>48</td>\n",
       "      <td>0</td>\n",
       "    </tr>\n",
       "    <tr>\n",
       "      <th>6386</th>\n",
       "      <td>-0.685638</td>\n",
       "      <td>0.677829</td>\n",
       "      <td>0.0</td>\n",
       "      <td>-0.277778</td>\n",
       "      <td>0.0032</td>\n",
       "      <td>0.333333</td>\n",
       "      <td>0.054608</td>\n",
       "      <td>48</td>\n",
       "      <td>0</td>\n",
       "    </tr>\n",
       "    <tr>\n",
       "      <th>6387</th>\n",
       "      <td>-0.175954</td>\n",
       "      <td>-0.106716</td>\n",
       "      <td>15.0</td>\n",
       "      <td>-0.277778</td>\n",
       "      <td>0.0032</td>\n",
       "      <td>-0.166667</td>\n",
       "      <td>-0.266212</td>\n",
       "      <td>75</td>\n",
       "      <td>2</td>\n",
       "    </tr>\n",
       "    <tr>\n",
       "      <th>6388</th>\n",
       "      <td>-1.075983</td>\n",
       "      <td>0.743330</td>\n",
       "      <td>-0.5</td>\n",
       "      <td>-0.277778</td>\n",
       "      <td>0.0032</td>\n",
       "      <td>-0.166667</td>\n",
       "      <td>0.030717</td>\n",
       "      <td>17</td>\n",
       "      <td>0</td>\n",
       "    </tr>\n",
       "  </tbody>\n",
       "</table>\n",
       "</div>"
      ],
      "text/plain": [
       "      latitude  longitude  minimum_nights  number_of_reviews  \\\n",
       "6384 -0.687128   0.658878             0.0          -0.277778   \n",
       "6385 -0.689064   0.689236             0.0          -0.277778   \n",
       "6386 -0.685638   0.677829             0.0          -0.277778   \n",
       "6387 -0.175954  -0.106716            15.0          -0.277778   \n",
       "6388 -1.075983   0.743330            -0.5          -0.277778   \n",
       "\n",
       "      reviews_per_month  calculated_host_listings_count  availability_365  \\\n",
       "6384             0.0032                        0.333333          0.064846   \n",
       "6385             0.0032                        0.333333          0.064846   \n",
       "6386             0.0032                        0.333333          0.054608   \n",
       "6387             0.0032                       -0.166667         -0.266212   \n",
       "6388             0.0032                       -0.166667          0.030717   \n",
       "\n",
       "      neighbourhood  room_type  \n",
       "6384             48          0  \n",
       "6385             48          0  \n",
       "6386             48          0  \n",
       "6387             75          2  \n",
       "6388             17          0  "
      ]
     },
     "execution_count": 83,
     "metadata": {},
     "output_type": "execute_result"
    }
   ],
   "source": [
    "combinedf.tail()"
   ]
  },
  {
   "cell_type": "code",
   "execution_count": 84,
   "id": "7c3e3c91",
   "metadata": {},
   "outputs": [
    {
     "data": {
      "text/plain": [
       "(6389, 9)"
      ]
     },
     "execution_count": 84,
     "metadata": {},
     "output_type": "execute_result"
    }
   ],
   "source": [
    "combinedf.shape"
   ]
  },
  {
   "cell_type": "code",
   "execution_count": 85,
   "id": "fb8e8da9",
   "metadata": {},
   "outputs": [
    {
     "data": {
      "text/plain": [
       "latitude                          0\n",
       "longitude                         0\n",
       "minimum_nights                    0\n",
       "number_of_reviews                 0\n",
       "reviews_per_month                 0\n",
       "calculated_host_listings_count    0\n",
       "availability_365                  0\n",
       "neighbourhood                     0\n",
       "room_type                         0\n",
       "dtype: int64"
      ]
     },
     "execution_count": 85,
     "metadata": {},
     "output_type": "execute_result"
    }
   ],
   "source": [
    "combinedf.isnull().sum()"
   ]
  },
  {
   "cell_type": "code",
   "execution_count": 86,
   "id": "29ad0534",
   "metadata": {},
   "outputs": [],
   "source": [
    "X=combinedf"
   ]
  },
  {
   "cell_type": "markdown",
   "id": "a85cf9ef",
   "metadata": {},
   "source": [
    "## Model Building"
   ]
  },
  {
   "cell_type": "markdown",
   "id": "12fa2e13",
   "metadata": {},
   "source": [
    "#### Linear Regression"
   ]
  },
  {
   "cell_type": "code",
   "execution_count": 87,
   "id": "a5a5b717",
   "metadata": {},
   "outputs": [],
   "source": [
    "from sklearn.linear_model import LinearRegression"
   ]
  },
  {
   "cell_type": "code",
   "execution_count": 88,
   "id": "b7b1b67f",
   "metadata": {},
   "outputs": [],
   "source": [
    "reg=LinearRegression()"
   ]
  },
  {
   "cell_type": "code",
   "execution_count": 89,
   "id": "bf9e04d7",
   "metadata": {},
   "outputs": [],
   "source": [
    "regmodel=reg.fit(X,y)"
   ]
  },
  {
   "cell_type": "code",
   "execution_count": 90,
   "id": "8e3e7e19",
   "metadata": {},
   "outputs": [
    {
     "data": {
      "text/plain": [
       "0.10603730277858792"
      ]
     },
     "execution_count": 90,
     "metadata": {},
     "output_type": "execute_result"
    }
   ],
   "source": [
    "regmodel.score(X,y)"
   ]
  },
  {
   "cell_type": "code",
   "execution_count": 91,
   "id": "1d96b0a1",
   "metadata": {},
   "outputs": [],
   "source": [
    "regpredict=regmodel.predict(X)"
   ]
  },
  {
   "cell_type": "code",
   "execution_count": 92,
   "id": "7026e9fa",
   "metadata": {},
   "outputs": [],
   "source": [
    "regresidual=y-regpredict"
   ]
  },
  {
   "cell_type": "code",
   "execution_count": 93,
   "id": "5e1e84b9",
   "metadata": {},
   "outputs": [
    {
     "data": {
      "text/plain": [
       "166.2515285320472"
      ]
     },
     "execution_count": 93,
     "metadata": {},
     "output_type": "execute_result"
    }
   ],
   "source": [
    "np.sqrt(np.mean(regresidual**2))# RMSE"
   ]
  },
  {
   "cell_type": "markdown",
   "id": "239b2ecc",
   "metadata": {},
   "source": [
    "### Square Root Transformation"
   ]
  },
  {
   "cell_type": "code",
   "execution_count": 94,
   "id": "495a7567",
   "metadata": {},
   "outputs": [],
   "source": [
    "regmodel_2=reg.fit(X,np.sqrt(y))"
   ]
  },
  {
   "cell_type": "code",
   "execution_count": 95,
   "id": "9165ba82",
   "metadata": {},
   "outputs": [
    {
     "data": {
      "text/plain": [
       "0.23569054634271402"
      ]
     },
     "execution_count": 95,
     "metadata": {},
     "output_type": "execute_result"
    }
   ],
   "source": [
    "regmodel_2.score(X,np.sqrt(y))"
   ]
  },
  {
   "cell_type": "code",
   "execution_count": 96,
   "id": "3b7641fd",
   "metadata": {},
   "outputs": [],
   "source": [
    "regpredict_2=regmodel_2.predict(X)"
   ]
  },
  {
   "cell_type": "code",
   "execution_count": 97,
   "id": "914d7f9e",
   "metadata": {},
   "outputs": [],
   "source": [
    "regresidual_2=y-regpredict_2"
   ]
  },
  {
   "cell_type": "code",
   "execution_count": 98,
   "id": "baea7086",
   "metadata": {},
   "outputs": [
    {
     "data": {
      "text/plain": [
       "218.3379528546081"
      ]
     },
     "execution_count": 98,
     "metadata": {},
     "output_type": "execute_result"
    }
   ],
   "source": [
    "np.sqrt(np.mean(regresidual_2**2))# RMSE"
   ]
  },
  {
   "cell_type": "code",
   "execution_count": null,
   "id": "2ed767bb",
   "metadata": {},
   "outputs": [],
   "source": []
  },
  {
   "cell_type": "markdown",
   "id": "4bba8e51",
   "metadata": {},
   "source": [
    "### Decision Tree"
   ]
  },
  {
   "cell_type": "code",
   "execution_count": 124,
   "id": "e5d39795",
   "metadata": {},
   "outputs": [],
   "source": [
    "from sklearn.tree import DecisionTreeRegressor"
   ]
  },
  {
   "cell_type": "code",
   "execution_count": 131,
   "id": "5b1eeb35",
   "metadata": {},
   "outputs": [],
   "source": [
    "tree=DecisionTreeRegressor(max_depth=12)"
   ]
  },
  {
   "cell_type": "code",
   "execution_count": 132,
   "id": "dc7925db",
   "metadata": {},
   "outputs": [],
   "source": [
    "treemodel=tree.fit(X,y)"
   ]
  },
  {
   "cell_type": "code",
   "execution_count": 133,
   "id": "187f6912",
   "metadata": {},
   "outputs": [
    {
     "data": {
      "text/plain": [
       "0.8037219853606259"
      ]
     },
     "execution_count": 133,
     "metadata": {},
     "output_type": "execute_result"
    }
   ],
   "source": [
    "treemodel.score(X,y)"
   ]
  },
  {
   "cell_type": "code",
   "execution_count": 141,
   "id": "ceb5b77e",
   "metadata": {},
   "outputs": [],
   "source": [
    "treepredict=treemodel.predict(X)"
   ]
  },
  {
   "cell_type": "code",
   "execution_count": 142,
   "id": "13f04d7f",
   "metadata": {},
   "outputs": [],
   "source": [
    "treeresidual=y-treepredict"
   ]
  },
  {
   "cell_type": "code",
   "execution_count": 143,
   "id": "4b0d71df",
   "metadata": {},
   "outputs": [
    {
     "data": {
      "text/plain": [
       "77.90077468893608"
      ]
     },
     "execution_count": 143,
     "metadata": {},
     "output_type": "execute_result"
    }
   ],
   "source": [
    "np.sqrt(np.mean(treeresidual**2))"
   ]
  },
  {
   "cell_type": "code",
   "execution_count": null,
   "id": "e54f7d87",
   "metadata": {},
   "outputs": [],
   "source": []
  },
  {
   "cell_type": "markdown",
   "id": "75e7fe7d",
   "metadata": {},
   "source": [
    "#### Random Forest"
   ]
  },
  {
   "cell_type": "code",
   "execution_count": 259,
   "id": "a1035753",
   "metadata": {},
   "outputs": [],
   "source": [
    "from sklearn.ensemble import RandomForestRegressor"
   ]
  },
  {
   "cell_type": "code",
   "execution_count": 260,
   "id": "d7929e4a",
   "metadata": {},
   "outputs": [],
   "source": [
    "random=RandomForestRegressor(n_estimators=2000,max_depth=12)"
   ]
  },
  {
   "cell_type": "code",
   "execution_count": 261,
   "id": "5e49842e",
   "metadata": {},
   "outputs": [],
   "source": [
    "randommodel=random.fit(X,y)"
   ]
  },
  {
   "cell_type": "code",
   "execution_count": 262,
   "id": "d340ccbe",
   "metadata": {},
   "outputs": [
    {
     "data": {
      "text/plain": [
       "0.7684156786999049"
      ]
     },
     "execution_count": 262,
     "metadata": {},
     "output_type": "execute_result"
    }
   ],
   "source": [
    "randommodel.score(X,y)"
   ]
  },
  {
   "cell_type": "code",
   "execution_count": 135,
   "id": "3b766cb4",
   "metadata": {},
   "outputs": [],
   "source": [
    "randompredict=randommodel.predict(X)"
   ]
  },
  {
   "cell_type": "code",
   "execution_count": 136,
   "id": "4eb784ce",
   "metadata": {},
   "outputs": [],
   "source": [
    "randomresidual=y-randompredict"
   ]
  },
  {
   "cell_type": "code",
   "execution_count": 137,
   "id": "805c4ffb",
   "metadata": {},
   "outputs": [
    {
     "data": {
      "text/plain": [
       "84.52718913402306"
      ]
     },
     "execution_count": 137,
     "metadata": {},
     "output_type": "execute_result"
    }
   ],
   "source": [
    "np.sqrt(np.mean(randomresidual**2))#RMSE"
   ]
  },
  {
   "cell_type": "code",
   "execution_count": null,
   "id": "73893c5e",
   "metadata": {},
   "outputs": [],
   "source": []
  },
  {
   "cell_type": "markdown",
   "id": "d3df280e",
   "metadata": {},
   "source": [
    "#### Gradient Boosting"
   ]
  },
  {
   "cell_type": "code",
   "execution_count": 137,
   "id": "bef6f290",
   "metadata": {},
   "outputs": [],
   "source": [
    "from sklearn.ensemble import GradientBoostingRegressor"
   ]
  },
  {
   "cell_type": "code",
   "execution_count": 160,
   "id": "4f27a955",
   "metadata": {},
   "outputs": [],
   "source": [
    "gbr=GradientBoostingRegressor(n_estimators=600,max_depth=4)"
   ]
  },
  {
   "cell_type": "code",
   "execution_count": 161,
   "id": "2f15e0f5",
   "metadata": {},
   "outputs": [],
   "source": [
    "gbrmodel=gbr.fit(X,y)"
   ]
  },
  {
   "cell_type": "code",
   "execution_count": 162,
   "id": "42e80ac4",
   "metadata": {},
   "outputs": [
    {
     "data": {
      "text/plain": [
       "0.8519766083246745"
      ]
     },
     "execution_count": 162,
     "metadata": {},
     "output_type": "execute_result"
    }
   ],
   "source": [
    "gbrmodel.score(X,y)"
   ]
  },
  {
   "cell_type": "code",
   "execution_count": 163,
   "id": "2422d0e1",
   "metadata": {},
   "outputs": [],
   "source": [
    "gbrpredict=gbrmodel.predict(X)"
   ]
  },
  {
   "cell_type": "code",
   "execution_count": 164,
   "id": "3f636b8f",
   "metadata": {},
   "outputs": [],
   "source": [
    "gbrresidual=y-gbrpredict"
   ]
  },
  {
   "cell_type": "code",
   "execution_count": 165,
   "id": "727e898a",
   "metadata": {},
   "outputs": [
    {
     "data": {
      "text/plain": [
       "67.65051761394547"
      ]
     },
     "execution_count": 165,
     "metadata": {},
     "output_type": "execute_result"
    }
   ],
   "source": [
    "np.sqrt(np.mean(gbrresidual**2))#RMSE"
   ]
  },
  {
   "cell_type": "code",
   "execution_count": null,
   "id": "b50feb4d",
   "metadata": {},
   "outputs": [],
   "source": []
  },
  {
   "cell_type": "markdown",
   "id": "247fd3e3",
   "metadata": {},
   "source": [
    "#### Support Vector Machine"
   ]
  },
  {
   "cell_type": "code",
   "execution_count": 166,
   "id": "bd411b48",
   "metadata": {},
   "outputs": [],
   "source": [
    "from sklearn.svm import LinearSVR"
   ]
  },
  {
   "cell_type": "code",
   "execution_count": 231,
   "id": "a74ff25f",
   "metadata": {},
   "outputs": [],
   "source": [
    "lsvr=LinearSVR(C=2)"
   ]
  },
  {
   "cell_type": "code",
   "execution_count": 232,
   "id": "747d5eac",
   "metadata": {},
   "outputs": [
    {
     "name": "stderr",
     "output_type": "stream",
     "text": [
      "C:\\Users\\srava\\anaconda3\\lib\\site-packages\\sklearn\\svm\\_classes.py:32: FutureWarning: The default value of `dual` will change from `True` to `'auto'` in 1.5. Set the value of `dual` explicitly to suppress the warning.\n",
      "  warnings.warn(\n",
      "C:\\Users\\srava\\anaconda3\\lib\\site-packages\\sklearn\\svm\\_base.py:1242: ConvergenceWarning: Liblinear failed to converge, increase the number of iterations.\n",
      "  warnings.warn(\n"
     ]
    }
   ],
   "source": [
    "lsvrmodel=lsvr.fit(X,np.sqrt(y))"
   ]
  },
  {
   "cell_type": "code",
   "execution_count": 233,
   "id": "e4c82f5c",
   "metadata": {},
   "outputs": [
    {
     "data": {
      "text/plain": [
       "0.15871630256065916"
      ]
     },
     "execution_count": 233,
     "metadata": {},
     "output_type": "execute_result"
    }
   ],
   "source": [
    "lsvrmodel.score(X,np.sqrt(y))"
   ]
  },
  {
   "cell_type": "code",
   "execution_count": 234,
   "id": "31bb559f",
   "metadata": {},
   "outputs": [],
   "source": [
    "lsvrpredict=lsvrmodel.predict(X)"
   ]
  },
  {
   "cell_type": "code",
   "execution_count": 235,
   "id": "72869d4b",
   "metadata": {},
   "outputs": [],
   "source": [
    "lsvrresidual=y-lsvrpredict"
   ]
  },
  {
   "cell_type": "code",
   "execution_count": 236,
   "id": "bbbd7309",
   "metadata": {},
   "outputs": [
    {
     "data": {
      "text/plain": [
       "219.17892172875472"
      ]
     },
     "execution_count": 236,
     "metadata": {},
     "output_type": "execute_result"
    }
   ],
   "source": [
    "np.sqrt(np.mean(lsvrresidual**2))#RMSE"
   ]
  },
  {
   "cell_type": "code",
   "execution_count": null,
   "id": "39f00191",
   "metadata": {},
   "outputs": [],
   "source": []
  },
  {
   "cell_type": "markdown",
   "id": "fb75e89e",
   "metadata": {},
   "source": [
    "### KNN "
   ]
  },
  {
   "cell_type": "code",
   "execution_count": 237,
   "id": "31f15f3d",
   "metadata": {},
   "outputs": [],
   "source": [
    "from sklearn.neighbors import KNeighborsRegressor"
   ]
  },
  {
   "cell_type": "code",
   "execution_count": 253,
   "id": "1a0848e6",
   "metadata": {},
   "outputs": [],
   "source": [
    "knn = KNeighborsRegressor(n_neighbors=2)"
   ]
  },
  {
   "cell_type": "code",
   "execution_count": 254,
   "id": "f4e4bc9b",
   "metadata": {},
   "outputs": [],
   "source": [
    "knnmodel=knn.fit(X,y)"
   ]
  },
  {
   "cell_type": "code",
   "execution_count": 255,
   "id": "96796482",
   "metadata": {},
   "outputs": [
    {
     "data": {
      "text/plain": [
       "0.6626610320599629"
      ]
     },
     "execution_count": 255,
     "metadata": {},
     "output_type": "execute_result"
    }
   ],
   "source": [
    "knnmodel.score(X,y)"
   ]
  },
  {
   "cell_type": "code",
   "execution_count": 256,
   "id": "c807f7a8",
   "metadata": {},
   "outputs": [],
   "source": [
    "knnpredict = knnmodel.predict(X)"
   ]
  },
  {
   "cell_type": "code",
   "execution_count": 257,
   "id": "bbcaa388",
   "metadata": {},
   "outputs": [],
   "source": [
    "knnresidual = y - knnpredict"
   ]
  },
  {
   "cell_type": "code",
   "execution_count": 258,
   "id": "5966fca8",
   "metadata": {},
   "outputs": [
    {
     "data": {
      "text/plain": [
       "102.12667776423457"
      ]
     },
     "execution_count": 258,
     "metadata": {},
     "output_type": "execute_result"
    }
   ],
   "source": [
    "np.sqrt(np.mean(knnresidual**2))"
   ]
  },
  {
   "cell_type": "markdown",
   "id": "52707289",
   "metadata": {},
   "source": [
    "# Summary"
   ]
  },
  {
   "cell_type": "markdown",
   "id": "5baf17f5",
   "metadata": {},
   "source": [
    "After building and evaluating various machine learning models for the House Prices dataset, we have compiled additional information, including RMSE(Root Mean Square Error), to provide a comprehensive summary. Below is a table summarizing the models, their machine learning scores, r_square, and RMSE values:"
   ]
  },
  {
   "cell_type": "markdown",
   "id": "a1e50c57",
   "metadata": {},
   "source": [
    "| Model Name | R_square | RMSE |\n",
    "|--|--|--|\n",
    "| Linear Regression | 0.10603730277858792 |166.2515285320472| \n",
    "| Decision Tree | 0.8037219853606259 | 77.90077468893608 |\n",
    "| Random Forest | 0.7684156786999049 | 84.52718913402306 |\n",
    "| **Gradient Boosting Machine** | **0.8519766083246745** | **67.65051761394547** |\n",
    "| Support Vector Machine | 0.15871630256065916 | 219.17892172875472 |\n",
    "| k-nearest neighbors | 0.6626610320599629 | 102.12667776423457 |"
   ]
  },
  {
   "cell_type": "markdown",
   "id": "5f9c358b",
   "metadata": {},
   "source": [
    "The \"Gradient Boosting Machines\" model stands out with a significantly lower RMSE score compared to its counterparts, indicating its superior predictive performance for this dataset. Despite a lower accuracy score, the lower RMSE value suggests that the Gradient Boosting Machines model yields predictions that are more closely aligned with actual outcomes, which is particularly valuable for regression tasks where numerical prediction accuracy is crucial.\n",
    "\n",
    "In light of these findings, it's advisable to consider the Gradient Boosting Machines model as a more reliable option for regression analysis on the Chicago Airbnb dataset, prioritizing RMSE as the key performance indicator scores."
   ]
  },
  {
   "cell_type": "code",
   "execution_count": null,
   "id": "177967dc",
   "metadata": {},
   "outputs": [],
   "source": []
  },
  {
   "cell_type": "code",
   "execution_count": null,
   "id": "d76c689d",
   "metadata": {},
   "outputs": [],
   "source": []
  }
 ],
 "metadata": {
  "kernelspec": {
   "display_name": "Python 3 (ipykernel)",
   "language": "python",
   "name": "python3"
  },
  "language_info": {
   "codemirror_mode": {
    "name": "ipython",
    "version": 3
   },
   "file_extension": ".py",
   "mimetype": "text/x-python",
   "name": "python",
   "nbconvert_exporter": "python",
   "pygments_lexer": "ipython3",
   "version": "3.10.13"
  }
 },
 "nbformat": 4,
 "nbformat_minor": 5
}
